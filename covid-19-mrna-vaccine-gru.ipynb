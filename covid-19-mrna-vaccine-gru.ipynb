{
 "cells": [
  {
   "cell_type": "code",
   "execution_count": 1,
   "metadata": {
    "_cell_guid": "b1076dfc-b9ad-4769-8c92-a6c4dae69d19",
    "_uuid": "8f2839f25d086af736a60e9eeb907d3b93b6e0e5",
    "execution": {
     "iopub.execute_input": "2021-05-20T15:16:28.808317Z",
     "iopub.status.busy": "2021-05-20T15:16:28.807720Z",
     "iopub.status.idle": "2021-05-20T15:16:37.530362Z",
     "shell.execute_reply": "2021-05-20T15:16:37.529202Z",
     "shell.execute_reply.started": "2021-05-20T15:10:34.679183Z"
    },
    "papermill": {
     "duration": 8.757585,
     "end_time": "2021-05-20T15:16:37.530487",
     "exception": false,
     "start_time": "2021-05-20T15:16:28.772902",
     "status": "completed"
    },
    "tags": []
   },
   "outputs": [],
   "source": [
    "import json\n",
    "\n",
    "import pandas as pd\n",
    "import numpy as np\n",
    "import plotly.express as px\n",
    "import tensorflow.keras.layers as L\n",
    "import tensorflow as tf\n",
    "from sklearn.model_selection import train_test_split"
   ]
  },
  {
   "cell_type": "markdown",
   "metadata": {
    "papermill": {
     "duration": 0.031868,
     "end_time": "2021-05-20T15:16:37.596133",
     "exception": false,
     "start_time": "2021-05-20T15:16:37.564265",
     "status": "completed"
    },
    "tags": []
   },
   "source": [
    "**READ JSON FILE**"
   ]
  },
  {
   "cell_type": "code",
   "execution_count": 2,
   "metadata": {
    "execution": {
     "iopub.execute_input": "2021-05-20T15:16:37.665290Z",
     "iopub.status.busy": "2021-05-20T15:16:37.664629Z",
     "iopub.status.idle": "2021-05-20T15:16:39.649954Z",
     "shell.execute_reply": "2021-05-20T15:16:39.649291Z",
     "shell.execute_reply.started": "2021-05-20T15:10:34.686830Z"
    },
    "papermill": {
     "duration": 2.0221,
     "end_time": "2021-05-20T15:16:39.650064",
     "exception": false,
     "start_time": "2021-05-20T15:16:37.627964",
     "status": "completed"
    },
    "tags": []
   },
   "outputs": [],
   "source": [
    "data_dir = '/kaggle/input/stanford-covid-vaccine/'\n",
    "train = pd.read_json(data_dir + 'train.json', lines=True)\n",
    "test = pd.read_json(data_dir + 'test.json', lines=True)\n",
    "sample_df = pd.read_csv(data_dir + 'sample_submission.csv')"
   ]
  },
  {
   "cell_type": "code",
   "execution_count": 3,
   "metadata": {
    "execution": {
     "iopub.execute_input": "2021-05-20T15:16:39.722177Z",
     "iopub.status.busy": "2021-05-20T15:16:39.721091Z",
     "iopub.status.idle": "2021-05-20T15:16:39.725610Z",
     "shell.execute_reply": "2021-05-20T15:16:39.726087Z",
     "shell.execute_reply.started": "2021-05-20T15:10:35.281981Z"
    },
    "papermill": {
     "duration": 0.047061,
     "end_time": "2021-05-20T15:16:39.726217",
     "exception": false,
     "start_time": "2021-05-20T15:16:39.679156",
     "status": "completed"
    },
    "tags": []
   },
   "outputs": [
    {
     "data": {
      "text/plain": [
       "((2400, 19), (3634, 7))"
      ]
     },
     "execution_count": 3,
     "metadata": {},
     "output_type": "execute_result"
    }
   ],
   "source": [
    "train.shape,test.shape"
   ]
  },
  {
   "cell_type": "code",
   "execution_count": 4,
   "metadata": {
    "execution": {
     "iopub.execute_input": "2021-05-20T15:16:39.803981Z",
     "iopub.status.busy": "2021-05-20T15:16:39.801791Z",
     "iopub.status.idle": "2021-05-20T15:16:39.907886Z",
     "shell.execute_reply": "2021-05-20T15:16:39.907181Z",
     "shell.execute_reply.started": "2021-05-20T15:10:35.291213Z"
    },
    "papermill": {
     "duration": 0.152053,
     "end_time": "2021-05-20T15:16:39.908011",
     "exception": false,
     "start_time": "2021-05-20T15:16:39.755958",
     "status": "completed"
    },
    "tags": []
   },
   "outputs": [
    {
     "data": {
      "text/html": [
       "<div>\n",
       "<style scoped>\n",
       "    .dataframe tbody tr th:only-of-type {\n",
       "        vertical-align: middle;\n",
       "    }\n",
       "\n",
       "    .dataframe tbody tr th {\n",
       "        vertical-align: top;\n",
       "    }\n",
       "\n",
       "    .dataframe thead th {\n",
       "        text-align: right;\n",
       "    }\n",
       "</style>\n",
       "<table border=\"1\" class=\"dataframe\">\n",
       "  <thead>\n",
       "    <tr style=\"text-align: right;\">\n",
       "      <th></th>\n",
       "      <th>index</th>\n",
       "      <th>id</th>\n",
       "      <th>sequence</th>\n",
       "      <th>structure</th>\n",
       "      <th>predicted_loop_type</th>\n",
       "      <th>signal_to_noise</th>\n",
       "      <th>SN_filter</th>\n",
       "      <th>seq_length</th>\n",
       "      <th>seq_scored</th>\n",
       "      <th>reactivity_error</th>\n",
       "      <th>deg_error_Mg_pH10</th>\n",
       "      <th>deg_error_pH10</th>\n",
       "      <th>deg_error_Mg_50C</th>\n",
       "      <th>deg_error_50C</th>\n",
       "      <th>reactivity</th>\n",
       "      <th>deg_Mg_pH10</th>\n",
       "      <th>deg_pH10</th>\n",
       "      <th>deg_Mg_50C</th>\n",
       "      <th>deg_50C</th>\n",
       "    </tr>\n",
       "  </thead>\n",
       "  <tbody>\n",
       "    <tr>\n",
       "      <th>0</th>\n",
       "      <td>0</td>\n",
       "      <td>id_001f94081</td>\n",
       "      <td>GGAAAAGCUCUAAUAACAGGAGACUAGGACUACGUAUUUCUAGGUA...</td>\n",
       "      <td>.....((((((.......)))).)).((.....((..((((((......</td>\n",
       "      <td>EEEEESSSSSSHHHHHHHSSSSBSSXSSIIIIISSIISSSSSSHHH...</td>\n",
       "      <td>6.894</td>\n",
       "      <td>1</td>\n",
       "      <td>107</td>\n",
       "      <td>68</td>\n",
       "      <td>[0.1359, 0.20700000000000002, 0.1633, 0.1452, ...</td>\n",
       "      <td>[0.26130000000000003, 0.38420000000000004, 0.1...</td>\n",
       "      <td>[0.2631, 0.28600000000000003, 0.0964, 0.1574, ...</td>\n",
       "      <td>[0.1501, 0.275, 0.0947, 0.18660000000000002, 0...</td>\n",
       "      <td>[0.2167, 0.34750000000000003, 0.188, 0.2124, 0...</td>\n",
       "      <td>[0.3297, 1.5693000000000001, 1.1227, 0.8686, 0...</td>\n",
       "      <td>[0.7556, 2.983, 0.2526, 1.3789, 0.637600000000...</td>\n",
       "      <td>[2.3375, 3.5060000000000002, 0.3008, 1.0108, 0...</td>\n",
       "      <td>[0.35810000000000003, 2.9683, 0.2589, 1.4552, ...</td>\n",
       "      <td>[0.6382, 3.4773, 0.9988, 1.3228, 0.78770000000...</td>\n",
       "    </tr>\n",
       "    <tr>\n",
       "      <th>1</th>\n",
       "      <td>1</td>\n",
       "      <td>id_0049f53ba</td>\n",
       "      <td>GGAAAAAGCGCGCGCGGUUAGCGCGCGCUUUUGCGCGCGCUGUACC...</td>\n",
       "      <td>.....(((((((((((((((((((((((....)))))))))).)))...</td>\n",
       "      <td>EEEEESSSSSSSSSSSSSSSSSSSSSSSHHHHSSSSSSSSSSBSSS...</td>\n",
       "      <td>0.193</td>\n",
       "      <td>0</td>\n",
       "      <td>107</td>\n",
       "      <td>68</td>\n",
       "      <td>[2.8272, 2.8272, 2.8272, 4.7343, 2.5676, 2.567...</td>\n",
       "      <td>[73705.3985, 73705.3985, 73705.3985, 73705.398...</td>\n",
       "      <td>[10.1986, 9.2418, 5.0933, 5.0933, 5.0933, 5.09...</td>\n",
       "      <td>[16.6174, 13.868, 8.1968, 8.1968, 8.1968, 8.19...</td>\n",
       "      <td>[15.4857, 7.9596, 13.3957, 5.8777, 5.8777, 5.8...</td>\n",
       "      <td>[0.0, 0.0, 0.0, 2.2965, 0.0, 0.0, 0.0, 0.0, 0....</td>\n",
       "      <td>[0.0, 0.0, 0.0, 0.0, 0.0, 0.0, 0.0, 0.0, 0.0, ...</td>\n",
       "      <td>[4.947, 4.4523, 0.0, 0.0, 0.0, 0.0, 0.0, 0.0, ...</td>\n",
       "      <td>[4.8511, 4.0426, 0.0, 0.0, 0.0, 0.0, 0.0, 0.0,...</td>\n",
       "      <td>[7.6692, 0.0, 10.9561, 0.0, 0.0, 0.0, 0.0, 0.0...</td>\n",
       "    </tr>\n",
       "    <tr>\n",
       "      <th>2</th>\n",
       "      <td>2</td>\n",
       "      <td>id_006f36f57</td>\n",
       "      <td>GGAAAGUGCUCAGAUAAGCUAAGCUCGAAUAGCAAUCGAAUAGAAU...</td>\n",
       "      <td>.....((((.((.....((((.(((.....)))..((((......)...</td>\n",
       "      <td>EEEEESSSSISSIIIIISSSSMSSSHHHHHSSSMMSSSSHHHHHHS...</td>\n",
       "      <td>8.800</td>\n",
       "      <td>1</td>\n",
       "      <td>107</td>\n",
       "      <td>68</td>\n",
       "      <td>[0.0931, 0.13290000000000002, 0.11280000000000...</td>\n",
       "      <td>[0.1365, 0.2237, 0.1812, 0.1333, 0.1148, 0.160...</td>\n",
       "      <td>[0.17020000000000002, 0.178, 0.111, 0.091, 0.0...</td>\n",
       "      <td>[0.1033, 0.1464, 0.1126, 0.09620000000000001, ...</td>\n",
       "      <td>[0.14980000000000002, 0.1761, 0.1517, 0.116700...</td>\n",
       "      <td>[0.44820000000000004, 1.4822, 1.1819, 0.743400...</td>\n",
       "      <td>[0.2504, 1.4021, 0.9804, 0.49670000000000003, ...</td>\n",
       "      <td>[2.243, 2.9361, 1.0553, 0.721, 0.6396000000000...</td>\n",
       "      <td>[0.5163, 1.6823000000000001, 1.0426, 0.7902, 0...</td>\n",
       "      <td>[0.9501000000000001, 1.7974999999999999, 1.499...</td>\n",
       "    </tr>\n",
       "    <tr>\n",
       "      <th>3</th>\n",
       "      <td>3</td>\n",
       "      <td>id_0082d463b</td>\n",
       "      <td>GGAAAAGCGCGCGCGCGCGCGCGAAAAAGCGCGCGCGCGCGCGCGC...</td>\n",
       "      <td>......((((((((((((((((......))))))))))))))))((...</td>\n",
       "      <td>EEEEEESSSSSSSSSSSSSSSSHHHHHHSSSSSSSSSSSSSSSSSS...</td>\n",
       "      <td>0.104</td>\n",
       "      <td>0</td>\n",
       "      <td>107</td>\n",
       "      <td>68</td>\n",
       "      <td>[3.5229, 6.0748, 3.0374, 3.0374, 3.0374, 3.037...</td>\n",
       "      <td>[73705.3985, 73705.3985, 73705.3985, 73705.398...</td>\n",
       "      <td>[11.8007, 12.7566, 5.7733, 5.7733, 5.7733, 5.7...</td>\n",
       "      <td>[121286.7181, 121286.7182, 121286.7181, 121286...</td>\n",
       "      <td>[15.3995, 8.1124, 7.7824, 7.7824, 7.7824, 7.78...</td>\n",
       "      <td>[0.0, 2.2399, 0.0, 0.0, 0.0, 0.0, 0.0, 0.0, 0....</td>\n",
       "      <td>[0.0, -0.5083, 0.0, 0.0, 0.0, 0.0, 0.0, 0.0, 0...</td>\n",
       "      <td>[3.4248, 6.8128, 0.0, 0.0, 0.0, 0.0, 0.0, 0.0,...</td>\n",
       "      <td>[0.0, -0.8365, 0.0, 0.0, 0.0, 0.0, 0.0, 0.0, 0...</td>\n",
       "      <td>[7.6692, -1.3223, 0.0, 0.0, 0.0, 0.0, 0.0, 0.0...</td>\n",
       "    </tr>\n",
       "    <tr>\n",
       "      <th>4</th>\n",
       "      <td>4</td>\n",
       "      <td>id_0087940f4</td>\n",
       "      <td>GGAAAAUAUAUAAUAUAUUAUAUAAAUAUAUUAUAGAAGUAUAAUA...</td>\n",
       "      <td>.....(((((((.((((((((((((.(((((((((....)))))))...</td>\n",
       "      <td>EEEEESSSSSSSBSSSSSSSSSSSSBSSSSSSSSSHHHHSSSSSSS...</td>\n",
       "      <td>0.423</td>\n",
       "      <td>0</td>\n",
       "      <td>107</td>\n",
       "      <td>68</td>\n",
       "      <td>[1.665, 2.1728, 2.0041, 1.2405, 0.620200000000...</td>\n",
       "      <td>[4.2139, 3.9637000000000002, 3.2467, 2.4716, 1...</td>\n",
       "      <td>[3.0942, 3.015, 2.1212, 2.0552, 0.881500000000...</td>\n",
       "      <td>[2.6717, 2.4818, 1.9919, 2.5484999999999998, 1...</td>\n",
       "      <td>[1.3285, 3.6173, 1.3057, 1.3021, 1.1507, 1.150...</td>\n",
       "      <td>[0.8267, 2.6577, 2.8481, 0.40090000000000003, ...</td>\n",
       "      <td>[2.1058, 3.138, 2.5437000000000003, 1.0932, 0....</td>\n",
       "      <td>[4.7366, 4.6243, 1.2068, 1.1538, 0.0, 0.0, 0.7...</td>\n",
       "      <td>[2.2052, 1.7947000000000002, 0.7457, 3.1233, 0...</td>\n",
       "      <td>[0.0, 5.1198, -0.3551, -0.3518, 0.0, 0.0, 0.0,...</td>\n",
       "    </tr>\n",
       "  </tbody>\n",
       "</table>\n",
       "</div>"
      ],
      "text/plain": [
       "   index            id                                           sequence  \\\n",
       "0      0  id_001f94081  GGAAAAGCUCUAAUAACAGGAGACUAGGACUACGUAUUUCUAGGUA...   \n",
       "1      1  id_0049f53ba  GGAAAAAGCGCGCGCGGUUAGCGCGCGCUUUUGCGCGCGCUGUACC...   \n",
       "2      2  id_006f36f57  GGAAAGUGCUCAGAUAAGCUAAGCUCGAAUAGCAAUCGAAUAGAAU...   \n",
       "3      3  id_0082d463b  GGAAAAGCGCGCGCGCGCGCGCGAAAAAGCGCGCGCGCGCGCGCGC...   \n",
       "4      4  id_0087940f4  GGAAAAUAUAUAAUAUAUUAUAUAAAUAUAUUAUAGAAGUAUAAUA...   \n",
       "\n",
       "                                           structure  \\\n",
       "0  .....((((((.......)))).)).((.....((..((((((......   \n",
       "1  .....(((((((((((((((((((((((....)))))))))).)))...   \n",
       "2  .....((((.((.....((((.(((.....)))..((((......)...   \n",
       "3  ......((((((((((((((((......))))))))))))))))((...   \n",
       "4  .....(((((((.((((((((((((.(((((((((....)))))))...   \n",
       "\n",
       "                                 predicted_loop_type  signal_to_noise  \\\n",
       "0  EEEEESSSSSSHHHHHHHSSSSBSSXSSIIIIISSIISSSSSSHHH...            6.894   \n",
       "1  EEEEESSSSSSSSSSSSSSSSSSSSSSSHHHHSSSSSSSSSSBSSS...            0.193   \n",
       "2  EEEEESSSSISSIIIIISSSSMSSSHHHHHSSSMMSSSSHHHHHHS...            8.800   \n",
       "3  EEEEEESSSSSSSSSSSSSSSSHHHHHHSSSSSSSSSSSSSSSSSS...            0.104   \n",
       "4  EEEEESSSSSSSBSSSSSSSSSSSSBSSSSSSSSSHHHHSSSSSSS...            0.423   \n",
       "\n",
       "   SN_filter  seq_length  seq_scored  \\\n",
       "0          1         107          68   \n",
       "1          0         107          68   \n",
       "2          1         107          68   \n",
       "3          0         107          68   \n",
       "4          0         107          68   \n",
       "\n",
       "                                    reactivity_error  \\\n",
       "0  [0.1359, 0.20700000000000002, 0.1633, 0.1452, ...   \n",
       "1  [2.8272, 2.8272, 2.8272, 4.7343, 2.5676, 2.567...   \n",
       "2  [0.0931, 0.13290000000000002, 0.11280000000000...   \n",
       "3  [3.5229, 6.0748, 3.0374, 3.0374, 3.0374, 3.037...   \n",
       "4  [1.665, 2.1728, 2.0041, 1.2405, 0.620200000000...   \n",
       "\n",
       "                                   deg_error_Mg_pH10  \\\n",
       "0  [0.26130000000000003, 0.38420000000000004, 0.1...   \n",
       "1  [73705.3985, 73705.3985, 73705.3985, 73705.398...   \n",
       "2  [0.1365, 0.2237, 0.1812, 0.1333, 0.1148, 0.160...   \n",
       "3  [73705.3985, 73705.3985, 73705.3985, 73705.398...   \n",
       "4  [4.2139, 3.9637000000000002, 3.2467, 2.4716, 1...   \n",
       "\n",
       "                                      deg_error_pH10  \\\n",
       "0  [0.2631, 0.28600000000000003, 0.0964, 0.1574, ...   \n",
       "1  [10.1986, 9.2418, 5.0933, 5.0933, 5.0933, 5.09...   \n",
       "2  [0.17020000000000002, 0.178, 0.111, 0.091, 0.0...   \n",
       "3  [11.8007, 12.7566, 5.7733, 5.7733, 5.7733, 5.7...   \n",
       "4  [3.0942, 3.015, 2.1212, 2.0552, 0.881500000000...   \n",
       "\n",
       "                                    deg_error_Mg_50C  \\\n",
       "0  [0.1501, 0.275, 0.0947, 0.18660000000000002, 0...   \n",
       "1  [16.6174, 13.868, 8.1968, 8.1968, 8.1968, 8.19...   \n",
       "2  [0.1033, 0.1464, 0.1126, 0.09620000000000001, ...   \n",
       "3  [121286.7181, 121286.7182, 121286.7181, 121286...   \n",
       "4  [2.6717, 2.4818, 1.9919, 2.5484999999999998, 1...   \n",
       "\n",
       "                                       deg_error_50C  \\\n",
       "0  [0.2167, 0.34750000000000003, 0.188, 0.2124, 0...   \n",
       "1  [15.4857, 7.9596, 13.3957, 5.8777, 5.8777, 5.8...   \n",
       "2  [0.14980000000000002, 0.1761, 0.1517, 0.116700...   \n",
       "3  [15.3995, 8.1124, 7.7824, 7.7824, 7.7824, 7.78...   \n",
       "4  [1.3285, 3.6173, 1.3057, 1.3021, 1.1507, 1.150...   \n",
       "\n",
       "                                          reactivity  \\\n",
       "0  [0.3297, 1.5693000000000001, 1.1227, 0.8686, 0...   \n",
       "1  [0.0, 0.0, 0.0, 2.2965, 0.0, 0.0, 0.0, 0.0, 0....   \n",
       "2  [0.44820000000000004, 1.4822, 1.1819, 0.743400...   \n",
       "3  [0.0, 2.2399, 0.0, 0.0, 0.0, 0.0, 0.0, 0.0, 0....   \n",
       "4  [0.8267, 2.6577, 2.8481, 0.40090000000000003, ...   \n",
       "\n",
       "                                         deg_Mg_pH10  \\\n",
       "0  [0.7556, 2.983, 0.2526, 1.3789, 0.637600000000...   \n",
       "1  [0.0, 0.0, 0.0, 0.0, 0.0, 0.0, 0.0, 0.0, 0.0, ...   \n",
       "2  [0.2504, 1.4021, 0.9804, 0.49670000000000003, ...   \n",
       "3  [0.0, -0.5083, 0.0, 0.0, 0.0, 0.0, 0.0, 0.0, 0...   \n",
       "4  [2.1058, 3.138, 2.5437000000000003, 1.0932, 0....   \n",
       "\n",
       "                                            deg_pH10  \\\n",
       "0  [2.3375, 3.5060000000000002, 0.3008, 1.0108, 0...   \n",
       "1  [4.947, 4.4523, 0.0, 0.0, 0.0, 0.0, 0.0, 0.0, ...   \n",
       "2  [2.243, 2.9361, 1.0553, 0.721, 0.6396000000000...   \n",
       "3  [3.4248, 6.8128, 0.0, 0.0, 0.0, 0.0, 0.0, 0.0,...   \n",
       "4  [4.7366, 4.6243, 1.2068, 1.1538, 0.0, 0.0, 0.7...   \n",
       "\n",
       "                                          deg_Mg_50C  \\\n",
       "0  [0.35810000000000003, 2.9683, 0.2589, 1.4552, ...   \n",
       "1  [4.8511, 4.0426, 0.0, 0.0, 0.0, 0.0, 0.0, 0.0,...   \n",
       "2  [0.5163, 1.6823000000000001, 1.0426, 0.7902, 0...   \n",
       "3  [0.0, -0.8365, 0.0, 0.0, 0.0, 0.0, 0.0, 0.0, 0...   \n",
       "4  [2.2052, 1.7947000000000002, 0.7457, 3.1233, 0...   \n",
       "\n",
       "                                             deg_50C  \n",
       "0  [0.6382, 3.4773, 0.9988, 1.3228, 0.78770000000...  \n",
       "1  [7.6692, 0.0, 10.9561, 0.0, 0.0, 0.0, 0.0, 0.0...  \n",
       "2  [0.9501000000000001, 1.7974999999999999, 1.499...  \n",
       "3  [7.6692, -1.3223, 0.0, 0.0, 0.0, 0.0, 0.0, 0.0...  \n",
       "4  [0.0, 5.1198, -0.3551, -0.3518, 0.0, 0.0, 0.0,...  "
      ]
     },
     "execution_count": 4,
     "metadata": {},
     "output_type": "execute_result"
    }
   ],
   "source": [
    "train.head()"
   ]
  },
  {
   "cell_type": "code",
   "execution_count": 5,
   "metadata": {
    "execution": {
     "iopub.execute_input": "2021-05-20T15:16:39.994296Z",
     "iopub.status.busy": "2021-05-20T15:16:39.993336Z",
     "iopub.status.idle": "2021-05-20T15:16:39.997440Z",
     "shell.execute_reply": "2021-05-20T15:16:39.997909Z",
     "shell.execute_reply.started": "2021-05-20T15:10:35.383299Z"
    },
    "papermill": {
     "duration": 0.053515,
     "end_time": "2021-05-20T15:16:39.998039",
     "exception": false,
     "start_time": "2021-05-20T15:16:39.944524",
     "status": "completed"
    },
    "tags": []
   },
   "outputs": [
    {
     "data": {
      "text/html": [
       "<div>\n",
       "<style scoped>\n",
       "    .dataframe tbody tr th:only-of-type {\n",
       "        vertical-align: middle;\n",
       "    }\n",
       "\n",
       "    .dataframe tbody tr th {\n",
       "        vertical-align: top;\n",
       "    }\n",
       "\n",
       "    .dataframe thead th {\n",
       "        text-align: right;\n",
       "    }\n",
       "</style>\n",
       "<table border=\"1\" class=\"dataframe\">\n",
       "  <thead>\n",
       "    <tr style=\"text-align: right;\">\n",
       "      <th></th>\n",
       "      <th>index</th>\n",
       "      <th>id</th>\n",
       "      <th>sequence</th>\n",
       "      <th>structure</th>\n",
       "      <th>predicted_loop_type</th>\n",
       "      <th>seq_length</th>\n",
       "      <th>seq_scored</th>\n",
       "    </tr>\n",
       "  </thead>\n",
       "  <tbody>\n",
       "    <tr>\n",
       "      <th>0</th>\n",
       "      <td>0</td>\n",
       "      <td>id_00073f8be</td>\n",
       "      <td>GGAAAAGUACGACUUGAGUACGGAAAACGUACCAACUCGAUUAAAA...</td>\n",
       "      <td>......((((((((((.(((((.....))))))))((((((((......</td>\n",
       "      <td>EEEEEESSSSSSSSSSBSSSSSHHHHHSSSSSSSSSSSSSSSSHHH...</td>\n",
       "      <td>107</td>\n",
       "      <td>68</td>\n",
       "    </tr>\n",
       "    <tr>\n",
       "      <th>1</th>\n",
       "      <td>1</td>\n",
       "      <td>id_000ae4237</td>\n",
       "      <td>GGAAACGGGUUCCGCGGAUUGCUGCUAAUAAGAGUAAUCUCUAAAU...</td>\n",
       "      <td>.....((((..((((((...(((((.....((((....)))).......</td>\n",
       "      <td>EEEEESSSSIISSSSSSIIISSSSSIIIIISSSSHHHHSSSSIIII...</td>\n",
       "      <td>130</td>\n",
       "      <td>91</td>\n",
       "    </tr>\n",
       "    <tr>\n",
       "      <th>2</th>\n",
       "      <td>2</td>\n",
       "      <td>id_00131c573</td>\n",
       "      <td>GGAAAACAAAACGGCCUGGAAGACGAAGGAAUUCGGCGCGAAGGCC...</td>\n",
       "      <td>...........((.(((.(.(..((..((..((((...))))..))...</td>\n",
       "      <td>EEEEEEEEEEESSISSSISISIISSIISSIISSSSHHHSSSSIISS...</td>\n",
       "      <td>107</td>\n",
       "      <td>68</td>\n",
       "    </tr>\n",
       "    <tr>\n",
       "      <th>3</th>\n",
       "      <td>3</td>\n",
       "      <td>id_00181fd34</td>\n",
       "      <td>GGAAAGGAUCUCUAUCGAAGGAUAGAGAUCGCUCGCGACGGCACGA...</td>\n",
       "      <td>......((((((((((....))))))))))((((((..((.(((.....</td>\n",
       "      <td>EEEEEESSSSSSSSSSHHHHSSSSSSSSSSSSSSSSIISSISSSHH...</td>\n",
       "      <td>107</td>\n",
       "      <td>68</td>\n",
       "    </tr>\n",
       "    <tr>\n",
       "      <th>4</th>\n",
       "      <td>4</td>\n",
       "      <td>id_0020473f7</td>\n",
       "      <td>GGAAACCCGCCCGCGCCCGCCCGCGCUGCUGCCGUGCCUCCUCUCC...</td>\n",
       "      <td>.....(((((((((((((((((((((((((((((((((((((((((...</td>\n",
       "      <td>EEEEESSSSSSSSSSSSSSSSSSSSSSSSSSSSSSSSSSSSSSSSS...</td>\n",
       "      <td>130</td>\n",
       "      <td>91</td>\n",
       "    </tr>\n",
       "  </tbody>\n",
       "</table>\n",
       "</div>"
      ],
      "text/plain": [
       "   index            id                                           sequence  \\\n",
       "0      0  id_00073f8be  GGAAAAGUACGACUUGAGUACGGAAAACGUACCAACUCGAUUAAAA...   \n",
       "1      1  id_000ae4237  GGAAACGGGUUCCGCGGAUUGCUGCUAAUAAGAGUAAUCUCUAAAU...   \n",
       "2      2  id_00131c573  GGAAAACAAAACGGCCUGGAAGACGAAGGAAUUCGGCGCGAAGGCC...   \n",
       "3      3  id_00181fd34  GGAAAGGAUCUCUAUCGAAGGAUAGAGAUCGCUCGCGACGGCACGA...   \n",
       "4      4  id_0020473f7  GGAAACCCGCCCGCGCCCGCCCGCGCUGCUGCCGUGCCUCCUCUCC...   \n",
       "\n",
       "                                           structure  \\\n",
       "0  ......((((((((((.(((((.....))))))))((((((((......   \n",
       "1  .....((((..((((((...(((((.....((((....)))).......   \n",
       "2  ...........((.(((.(.(..((..((..((((...))))..))...   \n",
       "3  ......((((((((((....))))))))))((((((..((.(((.....   \n",
       "4  .....(((((((((((((((((((((((((((((((((((((((((...   \n",
       "\n",
       "                                 predicted_loop_type  seq_length  seq_scored  \n",
       "0  EEEEEESSSSSSSSSSBSSSSSHHHHHSSSSSSSSSSSSSSSSHHH...         107          68  \n",
       "1  EEEEESSSSIISSSSSSIIISSSSSIIIIISSSSHHHHSSSSIIII...         130          91  \n",
       "2  EEEEEEEEEEESSISSSISISIISSIISSIISSSSHHHSSSSIISS...         107          68  \n",
       "3  EEEEEESSSSSSSSSSHHHHSSSSSSSSSSSSSSSSIISSISSSHH...         107          68  \n",
       "4  EEEEESSSSSSSSSSSSSSSSSSSSSSSSSSSSSSSSSSSSSSSSS...         130          91  "
      ]
     },
     "execution_count": 5,
     "metadata": {},
     "output_type": "execute_result"
    }
   ],
   "source": [
    "test.head()"
   ]
  },
  {
   "cell_type": "code",
   "execution_count": 6,
   "metadata": {
    "execution": {
     "iopub.execute_input": "2021-05-20T15:16:40.076219Z",
     "iopub.status.busy": "2021-05-20T15:16:40.075159Z",
     "iopub.status.idle": "2021-05-20T15:16:40.079642Z",
     "shell.execute_reply": "2021-05-20T15:16:40.079124Z",
     "shell.execute_reply.started": "2021-05-20T15:10:35.400130Z"
    },
    "papermill": {
     "duration": 0.049679,
     "end_time": "2021-05-20T15:16:40.079760",
     "exception": false,
     "start_time": "2021-05-20T15:16:40.030081",
     "status": "completed"
    },
    "tags": []
   },
   "outputs": [
    {
     "data": {
      "text/html": [
       "<div>\n",
       "<style scoped>\n",
       "    .dataframe tbody tr th:only-of-type {\n",
       "        vertical-align: middle;\n",
       "    }\n",
       "\n",
       "    .dataframe tbody tr th {\n",
       "        vertical-align: top;\n",
       "    }\n",
       "\n",
       "    .dataframe thead th {\n",
       "        text-align: right;\n",
       "    }\n",
       "</style>\n",
       "<table border=\"1\" class=\"dataframe\">\n",
       "  <thead>\n",
       "    <tr style=\"text-align: right;\">\n",
       "      <th></th>\n",
       "      <th>id_seqpos</th>\n",
       "      <th>reactivity</th>\n",
       "      <th>deg_Mg_pH10</th>\n",
       "      <th>deg_pH10</th>\n",
       "      <th>deg_Mg_50C</th>\n",
       "      <th>deg_50C</th>\n",
       "    </tr>\n",
       "  </thead>\n",
       "  <tbody>\n",
       "    <tr>\n",
       "      <th>0</th>\n",
       "      <td>id_00073f8be_0</td>\n",
       "      <td>0.0</td>\n",
       "      <td>0.0</td>\n",
       "      <td>0.0</td>\n",
       "      <td>0.0</td>\n",
       "      <td>0.0</td>\n",
       "    </tr>\n",
       "    <tr>\n",
       "      <th>1</th>\n",
       "      <td>id_00073f8be_1</td>\n",
       "      <td>0.0</td>\n",
       "      <td>0.0</td>\n",
       "      <td>0.0</td>\n",
       "      <td>0.0</td>\n",
       "      <td>0.0</td>\n",
       "    </tr>\n",
       "    <tr>\n",
       "      <th>2</th>\n",
       "      <td>id_00073f8be_2</td>\n",
       "      <td>0.0</td>\n",
       "      <td>0.0</td>\n",
       "      <td>0.0</td>\n",
       "      <td>0.0</td>\n",
       "      <td>0.0</td>\n",
       "    </tr>\n",
       "    <tr>\n",
       "      <th>3</th>\n",
       "      <td>id_00073f8be_3</td>\n",
       "      <td>0.0</td>\n",
       "      <td>0.0</td>\n",
       "      <td>0.0</td>\n",
       "      <td>0.0</td>\n",
       "      <td>0.0</td>\n",
       "    </tr>\n",
       "    <tr>\n",
       "      <th>4</th>\n",
       "      <td>id_00073f8be_4</td>\n",
       "      <td>0.0</td>\n",
       "      <td>0.0</td>\n",
       "      <td>0.0</td>\n",
       "      <td>0.0</td>\n",
       "      <td>0.0</td>\n",
       "    </tr>\n",
       "  </tbody>\n",
       "</table>\n",
       "</div>"
      ],
      "text/plain": [
       "        id_seqpos  reactivity  deg_Mg_pH10  deg_pH10  deg_Mg_50C  deg_50C\n",
       "0  id_00073f8be_0         0.0          0.0       0.0         0.0      0.0\n",
       "1  id_00073f8be_1         0.0          0.0       0.0         0.0      0.0\n",
       "2  id_00073f8be_2         0.0          0.0       0.0         0.0      0.0\n",
       "3  id_00073f8be_3         0.0          0.0       0.0         0.0      0.0\n",
       "4  id_00073f8be_4         0.0          0.0       0.0         0.0      0.0"
      ]
     },
     "execution_count": 6,
     "metadata": {},
     "output_type": "execute_result"
    }
   ],
   "source": [
    "sample_df.head()"
   ]
  },
  {
   "cell_type": "markdown",
   "metadata": {
    "papermill": {
     "duration": 0.03124,
     "end_time": "2021-05-20T15:16:40.142107",
     "exception": false,
     "start_time": "2021-05-20T15:16:40.110867",
     "status": "completed"
    },
    "tags": []
   },
   "source": [
    "### seq_scored - (68 in Train and Public Test, 91 in Private Test) \n",
    "Integer value denoting the number of positions used in scoring with predicted values. \n",
    "\n",
    "This should match the length of `reactivity`, `deg_*` and `*_error_* `columns"
   ]
  },
  {
   "cell_type": "code",
   "execution_count": 7,
   "metadata": {
    "execution": {
     "iopub.execute_input": "2021-05-20T15:16:40.214307Z",
     "iopub.status.busy": "2021-05-20T15:16:40.213306Z",
     "iopub.status.idle": "2021-05-20T15:16:40.220623Z",
     "shell.execute_reply": "2021-05-20T15:16:40.219977Z",
     "shell.execute_reply.started": "2021-05-20T15:10:35.415995Z"
    },
    "papermill": {
     "duration": 0.048392,
     "end_time": "2021-05-20T15:16:40.220795",
     "exception": false,
     "start_time": "2021-05-20T15:16:40.172403",
     "status": "completed"
    },
    "tags": []
   },
   "outputs": [
    {
     "name": "stdout",
     "output_type": "stream",
     "text": [
      "Unique values & no. of occurences for seq_scored in the training dataset:\n",
      " 68    2400\n",
      "Name: seq_scored, dtype: int64\n",
      "\n",
      "Unique values & no. of occurences for seq_scored in the test dataset:\n",
      " 91    3005\n",
      "68     629\n",
      "Name: seq_scored, dtype: int64\n"
     ]
    }
   ],
   "source": [
    "print(\"Unique values & no. of occurences for seq_scored in the training dataset:\\n\",train.seq_scored.value_counts())\n",
    "print(\"\\nUnique values & no. of occurences for seq_scored in the test dataset:\\n\",test.seq_scored.value_counts())"
   ]
  },
  {
   "cell_type": "markdown",
   "metadata": {
    "papermill": {
     "duration": 0.031778,
     "end_time": "2021-05-20T15:16:40.284970",
     "exception": false,
     "start_time": "2021-05-20T15:16:40.253192",
     "status": "completed"
    },
    "tags": []
   },
   "source": [
    "Observations:\n",
    "\n",
    "* We have got the exact count as mentioned on the data page of the competition, all the records present in the training dataset has a value of 68 for seq_scored\n",
    "    \n",
    "* Test dataset has 2 different values, 68 for public test data and 91 for private test data\n",
    "    \n",
    "* No. of records for different values are also in synch with what is mentioned on the data page, for both train and test datasets\n"
   ]
  },
  {
   "cell_type": "markdown",
   "metadata": {
    "papermill": {
     "duration": 0.031148,
     "end_time": "2021-05-20T15:16:40.348159",
     "exception": false,
     "start_time": "2021-05-20T15:16:40.317011",
     "status": "completed"
    },
    "tags": []
   },
   "source": [
    "\n",
    "Now let's verify the columns which are tightly bound with seq_scored\n",
    "* reactivity\n",
    "* deg_* \n",
    "* *_error_*"
   ]
  },
  {
   "cell_type": "code",
   "execution_count": 8,
   "metadata": {
    "execution": {
     "iopub.execute_input": "2021-05-20T15:16:40.439013Z",
     "iopub.status.busy": "2021-05-20T15:16:40.428641Z",
     "iopub.status.idle": "2021-05-20T15:16:40.714387Z",
     "shell.execute_reply": "2021-05-20T15:16:40.713611Z",
     "shell.execute_reply.started": "2021-05-20T15:10:35.430214Z"
    },
    "papermill": {
     "duration": 0.335457,
     "end_time": "2021-05-20T15:16:40.714542",
     "exception": false,
     "start_time": "2021-05-20T15:16:40.379085",
     "status": "completed"
    },
    "tags": []
   },
   "outputs": [
    {
     "name": "stdout",
     "output_type": "stream",
     "text": [
      "Length of different values for reactivity in training dataset: {68}\n",
      "Length of different values for deg_error_Mg_pH10 in training dataset: {68}\n",
      "Length of different values for deg_error_pH10 in training dataset: {68}\n",
      "Length of different values for deg_error_Mg_50C in training dataset: {68}\n",
      "Length of different values for deg_error_50C in training dataset: {68}\n",
      "Length of different values for deg_Mg_pH10 in training dataset: {68}\n",
      "Length of different values for deg_pH10 in training dataset: {68}\n",
      "Length of different values for deg_Mg_50C in training dataset: {68}\n",
      "Length of different values for deg_50C in training dataset: {68}\n"
     ]
    }
   ],
   "source": [
    "# training dataset\n",
    "deg_columns = ['reactivity','deg_error_Mg_pH10', 'deg_error_pH10','deg_error_Mg_50C', 'deg_error_50C', 'deg_Mg_pH10','deg_pH10', 'deg_Mg_50C', 'deg_50C']\n",
    "\n",
    "for col in deg_columns:\n",
    "    length = []\n",
    "    for each in range(train.shape[0]):\n",
    "        length.append(len(train[col].iloc[each]))\n",
    "\n",
    "    print(\"Length of different values for \" + col + \" in training dataset:\",set(length))\n"
   ]
  },
  {
   "cell_type": "markdown",
   "metadata": {
    "papermill": {
     "duration": 0.03338,
     "end_time": "2021-05-20T15:16:40.782193",
     "exception": false,
     "start_time": "2021-05-20T15:16:40.748813",
     "status": "completed"
    },
    "tags": []
   },
   "source": [
    "\n",
    "Key Observatoions\n",
    "\n",
    "* What we verified above is that all the columns in question have values of length 68 for all the records in the training dataset.\n",
    "This is in sync with the information provided by seq_scored field \n"
   ]
  },
  {
   "cell_type": "markdown",
   "metadata": {
    "papermill": {
     "duration": 0.031923,
     "end_time": "2021-05-20T15:16:40.846287",
     "exception": false,
     "start_time": "2021-05-20T15:16:40.814364",
     "status": "completed"
    },
    "tags": []
   },
   "source": [
    "### seq_length - (107 in Train and Public Test, 130 in Private Test) \n",
    "Integer values, denotes the length of sequence. Note that molecules used for the Private Test will be longer than those in the Train and Public Test data, so the size of this vector will be different."
   ]
  },
  {
   "cell_type": "code",
   "execution_count": 9,
   "metadata": {
    "execution": {
     "iopub.execute_input": "2021-05-20T15:16:40.923539Z",
     "iopub.status.busy": "2021-05-20T15:16:40.922252Z",
     "iopub.status.idle": "2021-05-20T15:16:40.925923Z",
     "shell.execute_reply": "2021-05-20T15:16:40.924126Z",
     "shell.execute_reply.started": "2021-05-20T15:10:35.702069Z"
    },
    "papermill": {
     "duration": 0.046997,
     "end_time": "2021-05-20T15:16:40.926065",
     "exception": false,
     "start_time": "2021-05-20T15:16:40.879068",
     "status": "completed"
    },
    "tags": []
   },
   "outputs": [
    {
     "name": "stdout",
     "output_type": "stream",
     "text": [
      "Unique values & there occurences for seq_length in the training dataset:\n",
      " 107    2400\n",
      "Name: seq_length, dtype: int64\n",
      "\n",
      "Unique values & there occurences for seq_length in the test dataset:\n",
      " 130    3005\n",
      "107     629\n",
      "Name: seq_length, dtype: int64\n"
     ]
    }
   ],
   "source": [
    "print(\"Unique values & there occurences for seq_length in the training dataset:\\n\",train.seq_length.value_counts())\n",
    "print(\"\\nUnique values & there occurences for seq_length in the test dataset:\\n\",test.seq_length.value_counts())"
   ]
  },
  {
   "cell_type": "markdown",
   "metadata": {
    "papermill": {
     "duration": 0.032245,
     "end_time": "2021-05-20T15:16:40.991997",
     "exception": false,
     "start_time": "2021-05-20T15:16:40.959752",
     "status": "completed"
    },
    "tags": []
   },
   "source": [
    "Observations: \n",
    "\n",
    "* For each record in the training dataset, sequence lenght is 107\n",
    "    \n",
    "* For test dataset, we have a mix of 130 and 107 sequence lengh which actually represents public and private test data\n",
    "\n",
    "* Data seems to be in synch with what is mentioned on the data page for both training and test dataset\n"
   ]
  },
  {
   "cell_type": "markdown",
   "metadata": {
    "papermill": {
     "duration": 0.031924,
     "end_time": "2021-05-20T15:16:41.056584",
     "exception": false,
     "start_time": "2021-05-20T15:16:41.024660",
     "status": "completed"
    },
    "tags": []
   },
   "source": [
    "### structure - (1x107 string in Train and Public Test, 130 in Private Test) \n",
    "An array of (, ), and . characters that describe whether a base is estimated to be paired or unpaired. Paired bases are denoted by opening and closing parentheses e.g. (....) means that base 0 is paired to base 5, and bases 1-4 are unpaired."
   ]
  },
  {
   "cell_type": "code",
   "execution_count": 10,
   "metadata": {
    "execution": {
     "iopub.execute_input": "2021-05-20T15:16:41.147123Z",
     "iopub.status.busy": "2021-05-20T15:16:41.131749Z",
     "iopub.status.idle": "2021-05-20T15:16:41.243561Z",
     "shell.execute_reply": "2021-05-20T15:16:41.244449Z",
     "shell.execute_reply.started": "2021-05-20T15:10:35.713493Z"
    },
    "papermill": {
     "duration": 0.15454,
     "end_time": "2021-05-20T15:16:41.244669",
     "exception": false,
     "start_time": "2021-05-20T15:16:41.090129",
     "status": "completed"
    },
    "tags": []
   },
   "outputs": [
    {
     "name": "stdout",
     "output_type": "stream",
     "text": [
      "length of different values for structure in training dataset: {107}\n",
      "\n",
      "length of different values for structure in test dataset: {130, 107}\n"
     ]
    }
   ],
   "source": [
    "# training dataset\n",
    "length = []\n",
    "for each in range(train.shape[0]):\n",
    "    length.append(len(train.structure.iloc[each]))\n",
    "\n",
    "print(\"length of different values for structure in training dataset:\",set(length))\n",
    "\n",
    "# test dataset\n",
    "length = []\n",
    "for each in range(test.shape[0]):\n",
    "    length.append(len(test.structure.iloc[each]))\n",
    "\n",
    "print(\"\\nlength of different values for structure in test dataset:\",set(length))\n"
   ]
  },
  {
   "cell_type": "code",
   "execution_count": 11,
   "metadata": {
    "execution": {
     "iopub.execute_input": "2021-05-20T15:16:41.323799Z",
     "iopub.status.busy": "2021-05-20T15:16:41.318238Z",
     "iopub.status.idle": "2021-05-20T15:16:41.431488Z",
     "shell.execute_reply": "2021-05-20T15:16:41.430751Z",
     "shell.execute_reply.started": "2021-05-20T15:10:35.819823Z"
    },
    "papermill": {
     "duration": 0.15349,
     "end_time": "2021-05-20T15:16:41.431640",
     "exception": false,
     "start_time": "2021-05-20T15:16:41.278150",
     "status": "completed"
    },
    "tags": []
   },
   "outputs": [
    {
     "name": "stdout",
     "output_type": "stream",
     "text": [
      "length of different values for predicted_loop_type in training dataset: {107}\n",
      "\n",
      "length of different values for predicted_loop_type in test dataset: {130, 107}\n"
     ]
    }
   ],
   "source": [
    "# training dataset\n",
    "length = []\n",
    "for each in range(train.shape[0]):\n",
    "    length.append(len(train.predicted_loop_type.iloc[each]))\n",
    "\n",
    "print(\"length of different values for predicted_loop_type in training dataset:\",set(length))\n",
    "\n",
    "# test dataset\n",
    "length = []\n",
    "for each in range(test.shape[0]):\n",
    "    length.append(len(test.predicted_loop_type.iloc[each]))\n",
    "\n",
    "print(\"\\nlength of different values for predicted_loop_type in test dataset:\",set(length))\n"
   ]
  },
  {
   "cell_type": "markdown",
   "metadata": {
    "papermill": {
     "duration": 0.033463,
     "end_time": "2021-05-20T15:16:41.498600",
     "exception": false,
     "start_time": "2021-05-20T15:16:41.465137",
     "status": "completed"
    },
    "tags": []
   },
   "source": [
    "Observations: \n",
    "\n",
    "* We have now verified that predicted loop has a length of 107 for each record in the training dataset\n",
    " \n",
    "* Whereas test dataset has a mix of 130 and 107 lengths which represents private and public test data\n"
   ]
  },
  {
   "cell_type": "markdown",
   "metadata": {
    "papermill": {
     "duration": 0.034514,
     "end_time": "2021-05-20T15:16:41.566359",
     "exception": false,
     "start_time": "2021-05-20T15:16:41.531845",
     "status": "completed"
    },
    "tags": []
   },
   "source": [
    "# **DATA PREPROCESSING**"
   ]
  },
  {
   "cell_type": "code",
   "execution_count": 12,
   "metadata": {
    "execution": {
     "iopub.execute_input": "2021-05-20T15:16:41.639231Z",
     "iopub.status.busy": "2021-05-20T15:16:41.638226Z",
     "iopub.status.idle": "2021-05-20T15:16:41.654428Z",
     "shell.execute_reply": "2021-05-20T15:16:41.653930Z",
     "shell.execute_reply.started": "2021-05-20T15:10:35.930141Z"
    },
    "papermill": {
     "duration": 0.053348,
     "end_time": "2021-05-20T15:16:41.654538",
     "exception": false,
     "start_time": "2021-05-20T15:16:41.601190",
     "status": "completed"
    },
    "tags": []
   },
   "outputs": [
    {
     "data": {
      "text/plain": [
       "(2097, 19)"
      ]
     },
     "execution_count": 12,
     "metadata": {},
     "output_type": "execute_result"
    }
   ],
   "source": [
    "train = train.query(\"signal_to_noise >= 1\")\n",
    "train.shape"
   ]
  },
  {
   "cell_type": "markdown",
   "metadata": {
    "papermill": {
     "duration": 0.033963,
     "end_time": "2021-05-20T15:16:41.723203",
     "exception": false,
     "start_time": "2021-05-20T15:16:41.689240",
     "status": "completed"
    },
    "tags": []
   },
   "source": [
    "### Helper Variables & Functions to pre-process the input data"
   ]
  },
  {
   "cell_type": "code",
   "execution_count": 13,
   "metadata": {
    "execution": {
     "iopub.execute_input": "2021-05-20T15:16:41.801284Z",
     "iopub.status.busy": "2021-05-20T15:16:41.800512Z",
     "iopub.status.idle": "2021-05-20T15:16:41.804494Z",
     "shell.execute_reply": "2021-05-20T15:16:41.804051Z",
     "shell.execute_reply.started": "2021-05-20T15:10:35.943444Z"
    },
    "papermill": {
     "duration": 0.046707,
     "end_time": "2021-05-20T15:16:41.804593",
     "exception": false,
     "start_time": "2021-05-20T15:16:41.757886",
     "status": "completed"
    },
    "tags": []
   },
   "outputs": [],
   "source": [
    "def pandas_list_to_array(df):\n",
    "    \"\"\"\n",
    "    Input: dataframe of shape (x, y), containing list of length l\n",
    "    Return: np.array of shape (x, l, y)\n",
    "    \"\"\"\n",
    "    \n",
    "    return np.transpose(\n",
    "        np.array(df.values.tolist()),\n",
    "        (0, 2, 1)\n",
    "    )"
   ]
  },
  {
   "cell_type": "code",
   "execution_count": 14,
   "metadata": {
    "execution": {
     "iopub.execute_input": "2021-05-20T15:16:41.878528Z",
     "iopub.status.busy": "2021-05-20T15:16:41.877781Z",
     "iopub.status.idle": "2021-05-20T15:16:41.881668Z",
     "shell.execute_reply": "2021-05-20T15:16:41.881192Z",
     "shell.execute_reply.started": "2021-05-20T15:10:35.951149Z"
    },
    "papermill": {
     "duration": 0.043102,
     "end_time": "2021-05-20T15:16:41.881785",
     "exception": false,
     "start_time": "2021-05-20T15:16:41.838683",
     "status": "completed"
    },
    "tags": []
   },
   "outputs": [],
   "source": [
    "def preprocess_inputs(df, token2int, cols=['sequence', 'structure', 'predicted_loop_type']):\n",
    "    return pandas_list_to_array(\n",
    "        df[cols].applymap(lambda seq: [token2int[x] for x in seq])\n",
    "    )"
   ]
  },
  {
   "cell_type": "code",
   "execution_count": 15,
   "metadata": {
    "execution": {
     "iopub.execute_input": "2021-05-20T15:16:41.957560Z",
     "iopub.status.busy": "2021-05-20T15:16:41.955451Z",
     "iopub.status.idle": "2021-05-20T15:16:41.958203Z",
     "shell.execute_reply": "2021-05-20T15:16:41.958643Z",
     "shell.execute_reply.started": "2021-05-20T15:10:35.960436Z"
    },
    "papermill": {
     "duration": 0.042054,
     "end_time": "2021-05-20T15:16:41.958783",
     "exception": false,
     "start_time": "2021-05-20T15:16:41.916729",
     "status": "completed"
    },
    "tags": []
   },
   "outputs": [],
   "source": [
    "# predictor variables\n",
    "pred_cols = ['reactivity', 'deg_Mg_pH10', 'deg_Mg_50C', 'deg_pH10', 'deg_50C']"
   ]
  },
  {
   "cell_type": "markdown",
   "metadata": {
    "papermill": {
     "duration": 0.033759,
     "end_time": "2021-05-20T15:16:42.027111",
     "exception": false,
     "start_time": "2021-05-20T15:16:41.993352",
     "status": "completed"
    },
    "tags": []
   },
   "source": [
    "We have following 3 columns with character sequence:\n",
    "  \n",
    "* sequence\n",
    "* structure \n",
    "* predicted_loop_type\n",
    "    \n",
    "we need to convert them to integers so that we can feed them into the model.                              \n"
   ]
  },
  {
   "cell_type": "code",
   "execution_count": 16,
   "metadata": {
    "execution": {
     "iopub.execute_input": "2021-05-20T15:16:42.104018Z",
     "iopub.status.busy": "2021-05-20T15:16:42.103388Z",
     "iopub.status.idle": "2021-05-20T15:16:42.383729Z",
     "shell.execute_reply": "2021-05-20T15:16:42.384174Z",
     "shell.execute_reply.started": "2021-05-20T15:10:35.972767Z"
    },
    "papermill": {
     "duration": 0.322048,
     "end_time": "2021-05-20T15:16:42.384316",
     "exception": false,
     "start_time": "2021-05-20T15:16:42.062268",
     "status": "completed"
    },
    "tags": []
   },
   "outputs": [],
   "source": [
    "# we are using a dictinoary here to map each character with a unique integer\n",
    "token2int = {x:i for i, x in enumerate('().ACGUBEHIMSX')}\n",
    "\n",
    "# calling the function defined above to apply the actual character to integer conversion\n",
    "# train_inputs is the dataframe we are going to use to feed our keras model\n",
    "train_inputs = preprocess_inputs(train, token2int)\n",
    "\n",
    "# call the function to reshape the predictor variables to convert into an array which can be fed into keras model\n",
    "train_labels = pandas_list_to_array(train[pred_cols])"
   ]
  },
  {
   "cell_type": "code",
   "execution_count": 17,
   "metadata": {
    "_cell_guid": "79c7e3d0-c299-4dcb-8224-4455121ee9b0",
    "_uuid": "d629ff2d2480ee46fbb7e2d37f6b5fab8052498a",
    "execution": {
     "iopub.execute_input": "2021-05-20T15:16:42.456556Z",
     "iopub.status.busy": "2021-05-20T15:16:42.455668Z",
     "iopub.status.idle": "2021-05-20T15:16:42.458107Z",
     "shell.execute_reply": "2021-05-20T15:16:42.458646Z",
     "shell.execute_reply.started": "2021-05-20T15:10:36.217810Z"
    },
    "papermill": {
     "duration": 0.04094,
     "end_time": "2021-05-20T15:16:42.458790",
     "exception": false,
     "start_time": "2021-05-20T15:16:42.417850",
     "status": "completed"
    },
    "tags": []
   },
   "outputs": [],
   "source": [
    "# sets the random seed\n",
    "tf.random.set_seed(2020)\n",
    "np.random.seed(2020)"
   ]
  },
  {
   "cell_type": "code",
   "execution_count": 18,
   "metadata": {
    "execution": {
     "iopub.execute_input": "2021-05-20T15:16:44.281075Z",
     "iopub.status.busy": "2021-05-20T15:16:44.280197Z",
     "iopub.status.idle": "2021-05-20T15:16:44.627081Z",
     "shell.execute_reply": "2021-05-20T15:16:44.626435Z",
     "shell.execute_reply.started": "2021-05-20T15:10:36.290512Z"
    },
    "papermill": {
     "duration": 2.134978,
     "end_time": "2021-05-20T15:16:44.627209",
     "exception": false,
     "start_time": "2021-05-20T15:16:42.492231",
     "status": "completed"
    },
    "tags": []
   },
   "outputs": [],
   "source": [
    "# This is to generate a new set of random values every time\n",
    "y_true = tf.random.normal((32, 68, 3))\n",
    "y_pred = tf.random.normal((32, 68, 3))"
   ]
  },
  {
   "cell_type": "code",
   "execution_count": 19,
   "metadata": {
    "execution": {
     "iopub.execute_input": "2021-05-20T15:16:44.703268Z",
     "iopub.status.busy": "2021-05-20T15:16:44.701450Z",
     "iopub.status.idle": "2021-05-20T15:16:44.703908Z",
     "shell.execute_reply": "2021-05-20T15:16:44.704308Z",
     "shell.execute_reply.started": "2021-05-20T15:10:36.305680Z"
    },
    "papermill": {
     "duration": 0.042553,
     "end_time": "2021-05-20T15:16:44.704438",
     "exception": false,
     "start_time": "2021-05-20T15:16:44.661885",
     "status": "completed"
    },
    "tags": []
   },
   "outputs": [],
   "source": [
    "# function to calculate average across all RMSE values for each column\n",
    "def MCRMSE(y_true, y_pred):\n",
    "    colwise_mse = tf.reduce_mean(tf.square(y_true - y_pred), axis=1)\n",
    "    return tf.reduce_mean(tf.sqrt(colwise_mse), axis=1)"
   ]
  },
  {
   "cell_type": "markdown",
   "metadata": {
    "papermill": {
     "duration": 0.033539,
     "end_time": "2021-05-20T15:16:44.771164",
     "exception": false,
     "start_time": "2021-05-20T15:16:44.737625",
     "status": "completed"
    },
    "tags": []
   },
   "source": [
    "# GRU LAYER"
   ]
  },
  {
   "cell_type": "code",
   "execution_count": 20,
   "metadata": {
    "execution": {
     "iopub.execute_input": "2021-05-20T15:16:44.845405Z",
     "iopub.status.busy": "2021-05-20T15:16:44.843478Z",
     "iopub.status.idle": "2021-05-20T15:16:44.846036Z",
     "shell.execute_reply": "2021-05-20T15:16:44.846460Z",
     "shell.execute_reply.started": "2021-05-20T15:10:36.314975Z"
    },
    "papermill": {
     "duration": 0.042558,
     "end_time": "2021-05-20T15:16:44.846584",
     "exception": false,
     "start_time": "2021-05-20T15:16:44.804026",
     "status": "completed"
    },
    "tags": []
   },
   "outputs": [],
   "source": [
    "def gru_layer(hidden_dim, dropout):\n",
    "    return L.Bidirectional(L.GRU(\n",
    "        hidden_dim, dropout=dropout, return_sequences=True, kernel_initializer='orthogonal'))"
   ]
  },
  {
   "cell_type": "code",
   "execution_count": 21,
   "metadata": {
    "execution": {
     "iopub.execute_input": "2021-05-20T15:16:44.924456Z",
     "iopub.status.busy": "2021-05-20T15:16:44.923685Z",
     "iopub.status.idle": "2021-05-20T15:16:44.927168Z",
     "shell.execute_reply": "2021-05-20T15:16:44.927635Z",
     "shell.execute_reply.started": "2021-05-20T15:10:36.323220Z"
    },
    "papermill": {
     "duration": 0.047264,
     "end_time": "2021-05-20T15:16:44.927780",
     "exception": false,
     "start_time": "2021-05-20T15:16:44.880516",
     "status": "completed"
    },
    "tags": []
   },
   "outputs": [],
   "source": [
    "def build_model(embed_size, seq_len=107, pred_len=68, dropout=0.5, \n",
    "                sp_dropout=0.2, embed_dim=200, hidden_dim=256, n_layers=3):\n",
    "    inputs = L.Input(shape=(seq_len, 3))\n",
    "    embed = L.Embedding(input_dim=embed_size, output_dim=embed_dim)(inputs)\n",
    "    \n",
    "    reshaped = tf.reshape(\n",
    "        embed, shape=(-1, embed.shape[1],  embed.shape[2] * embed.shape[3])\n",
    "    )\n",
    "    hidden = L.SpatialDropout1D(sp_dropout)(reshaped)\n",
    "    \n",
    "    for x in range(n_layers):\n",
    "        hidden = gru_layer(hidden_dim, dropout)(hidden)\n",
    "    \n",
    "\n",
    "    truncated = hidden[:, :pred_len]\n",
    "    out = L.Dense(5, activation='linear')(truncated)\n",
    "    \n",
    "    model = tf.keras.Model(inputs=inputs, outputs=out)\n",
    "    model.compile(tf.optimizers.Adam(), loss=MCRMSE)\n",
    "    \n",
    "    return model"
   ]
  },
  {
   "cell_type": "code",
   "execution_count": 22,
   "metadata": {
    "execution": {
     "iopub.execute_input": "2021-05-20T15:16:45.002266Z",
     "iopub.status.busy": "2021-05-20T15:16:45.001603Z",
     "iopub.status.idle": "2021-05-20T15:16:45.016672Z",
     "shell.execute_reply": "2021-05-20T15:16:45.016077Z",
     "shell.execute_reply.started": "2021-05-20T15:10:36.337616Z"
    },
    "papermill": {
     "duration": 0.055274,
     "end_time": "2021-05-20T15:16:45.016806",
     "exception": false,
     "start_time": "2021-05-20T15:16:44.961532",
     "status": "completed"
    },
    "tags": []
   },
   "outputs": [],
   "source": [
    "x_train, x_val, y_train, y_val = train_test_split(\n",
    "    train_inputs, train_labels, test_size=.1, random_state=34, stratify=train.SN_filter)"
   ]
  },
  {
   "cell_type": "code",
   "execution_count": 23,
   "metadata": {
    "execution": {
     "iopub.execute_input": "2021-05-20T15:16:45.104247Z",
     "iopub.status.busy": "2021-05-20T15:16:45.103267Z",
     "iopub.status.idle": "2021-05-20T15:16:45.489401Z",
     "shell.execute_reply": "2021-05-20T15:16:45.488867Z",
     "shell.execute_reply.started": "2021-05-20T15:10:36.351929Z"
    },
    "papermill": {
     "duration": 0.433296,
     "end_time": "2021-05-20T15:16:45.489520",
     "exception": false,
     "start_time": "2021-05-20T15:16:45.056224",
     "status": "completed"
    },
    "tags": []
   },
   "outputs": [],
   "source": [
    "public_df = test.query(\"seq_length == 107\")\n",
    "private_df = test.query(\"seq_length == 130\")\n",
    "\n",
    "public_inputs = preprocess_inputs(public_df, token2int)\n",
    "private_inputs = preprocess_inputs(private_df, token2int)"
   ]
  },
  {
   "cell_type": "code",
   "execution_count": 24,
   "metadata": {
    "execution": {
     "iopub.execute_input": "2021-05-20T15:16:45.563411Z",
     "iopub.status.busy": "2021-05-20T15:16:45.562769Z",
     "iopub.status.idle": "2021-05-20T15:16:47.396277Z",
     "shell.execute_reply": "2021-05-20T15:16:47.395573Z",
     "shell.execute_reply.started": "2021-05-20T15:10:36.664616Z"
    },
    "papermill": {
     "duration": 1.871229,
     "end_time": "2021-05-20T15:16:47.396390",
     "exception": false,
     "start_time": "2021-05-20T15:16:45.525161",
     "status": "completed"
    },
    "tags": []
   },
   "outputs": [
    {
     "name": "stdout",
     "output_type": "stream",
     "text": [
      "Model: \"functional_1\"\n",
      "_________________________________________________________________\n",
      "Layer (type)                 Output Shape              Param #   \n",
      "=================================================================\n",
      "input_1 (InputLayer)         [(None, 107, 3)]          0         \n",
      "_________________________________________________________________\n",
      "embedding (Embedding)        (None, 107, 3, 200)       2800      \n",
      "_________________________________________________________________\n",
      "tf_op_layer_Reshape (TensorF [(None, 107, 600)]        0         \n",
      "_________________________________________________________________\n",
      "spatial_dropout1d (SpatialDr (None, 107, 600)          0         \n",
      "_________________________________________________________________\n",
      "bidirectional (Bidirectional (None, 107, 512)          1317888   \n",
      "_________________________________________________________________\n",
      "bidirectional_1 (Bidirection (None, 107, 512)          1182720   \n",
      "_________________________________________________________________\n",
      "bidirectional_2 (Bidirection (None, 107, 512)          1182720   \n",
      "_________________________________________________________________\n",
      "tf_op_layer_strided_slice (T [(None, 68, 512)]         0         \n",
      "_________________________________________________________________\n",
      "dense (Dense)                (None, 68, 5)             2565      \n",
      "=================================================================\n",
      "Total params: 3,688,693\n",
      "Trainable params: 3,688,693\n",
      "Non-trainable params: 0\n",
      "_________________________________________________________________\n"
     ]
    }
   ],
   "source": [
    "model = build_model(embed_size=len(token2int))\n",
    "model.summary()"
   ]
  },
  {
   "cell_type": "code",
   "execution_count": 25,
   "metadata": {
    "execution": {
     "iopub.execute_input": "2021-05-20T15:16:47.473559Z",
     "iopub.status.busy": "2021-05-20T15:16:47.471482Z",
     "iopub.status.idle": "2021-05-20T15:20:14.974030Z",
     "shell.execute_reply": "2021-05-20T15:20:14.972966Z",
     "shell.execute_reply.started": "2021-05-20T15:10:38.473747Z"
    },
    "papermill": {
     "duration": 207.544054,
     "end_time": "2021-05-20T15:20:14.974159",
     "exception": false,
     "start_time": "2021-05-20T15:16:47.430105",
     "status": "completed"
    },
    "tags": []
   },
   "outputs": [
    {
     "name": "stdout",
     "output_type": "stream",
     "text": [
      "Epoch 1/50\n",
      "59/59 - 6s - loss: 0.4226 - val_loss: 0.3618\n",
      "Epoch 2/50\n",
      "59/59 - 4s - loss: 0.3632 - val_loss: 0.3329\n",
      "Epoch 3/50\n",
      "59/59 - 4s - loss: 0.3430 - val_loss: 0.3281\n",
      "Epoch 4/50\n",
      "59/59 - 4s - loss: 0.3304 - val_loss: 0.3136\n",
      "Epoch 5/50\n",
      "59/59 - 4s - loss: 0.3194 - val_loss: 0.3040\n",
      "Epoch 6/50\n",
      "59/59 - 4s - loss: 0.3085 - val_loss: 0.2946\n",
      "Epoch 7/50\n",
      "59/59 - 4s - loss: 0.2979 - val_loss: 0.2820\n",
      "Epoch 8/50\n",
      "59/59 - 4s - loss: 0.2855 - val_loss: 0.2696\n",
      "Epoch 9/50\n",
      "59/59 - 4s - loss: 0.2773 - val_loss: 0.2616\n",
      "Epoch 10/50\n",
      "59/59 - 4s - loss: 0.2678 - val_loss: 0.2541\n",
      "Epoch 11/50\n",
      "59/59 - 4s - loss: 0.2597 - val_loss: 0.2540\n",
      "Epoch 12/50\n",
      "59/59 - 4s - loss: 0.2556 - val_loss: 0.2485\n",
      "Epoch 13/50\n",
      "59/59 - 4s - loss: 0.2497 - val_loss: 0.2451\n",
      "Epoch 14/50\n",
      "59/59 - 4s - loss: 0.2462 - val_loss: 0.2415\n",
      "Epoch 15/50\n",
      "59/59 - 4s - loss: 0.2424 - val_loss: 0.2385\n",
      "Epoch 16/50\n",
      "59/59 - 4s - loss: 0.2388 - val_loss: 0.2413\n",
      "Epoch 17/50\n",
      "59/59 - 4s - loss: 0.2357 - val_loss: 0.2384\n",
      "Epoch 18/50\n",
      "59/59 - 4s - loss: 0.2318 - val_loss: 0.2357\n",
      "Epoch 19/50\n",
      "59/59 - 4s - loss: 0.2296 - val_loss: 0.2336\n",
      "Epoch 20/50\n",
      "59/59 - 4s - loss: 0.2256 - val_loss: 0.2301\n",
      "Epoch 21/50\n",
      "59/59 - 4s - loss: 0.2229 - val_loss: 0.2317\n",
      "Epoch 22/50\n",
      "59/59 - 4s - loss: 0.2209 - val_loss: 0.2334\n",
      "Epoch 23/50\n",
      "59/59 - 4s - loss: 0.2186 - val_loss: 0.2287\n",
      "Epoch 24/50\n",
      "59/59 - 4s - loss: 0.2164 - val_loss: 0.2291\n",
      "Epoch 25/50\n",
      "59/59 - 4s - loss: 0.2140 - val_loss: 0.2297\n",
      "Epoch 26/50\n",
      "59/59 - 4s - loss: 0.2112 - val_loss: 0.2281\n",
      "Epoch 27/50\n",
      "59/59 - 4s - loss: 0.2094 - val_loss: 0.2320\n",
      "Epoch 28/50\n",
      "59/59 - 4s - loss: 0.2085 - val_loss: 0.2256\n",
      "Epoch 29/50\n",
      "59/59 - 4s - loss: 0.2053 - val_loss: 0.2268\n",
      "Epoch 30/50\n",
      "59/59 - 4s - loss: 0.2024 - val_loss: 0.2269\n",
      "Epoch 31/50\n",
      "59/59 - 4s - loss: 0.2015 - val_loss: 0.2259\n",
      "Epoch 32/50\n",
      "59/59 - 4s - loss: 0.2004 - val_loss: 0.2241\n",
      "Epoch 33/50\n",
      "59/59 - 4s - loss: 0.1977 - val_loss: 0.2235\n",
      "Epoch 34/50\n",
      "59/59 - 4s - loss: 0.1970 - val_loss: 0.2265\n",
      "Epoch 35/50\n",
      "59/59 - 4s - loss: 0.1948 - val_loss: 0.2240\n",
      "Epoch 36/50\n",
      "59/59 - 4s - loss: 0.1935 - val_loss: 0.2226\n",
      "Epoch 37/50\n",
      "59/59 - 4s - loss: 0.1921 - val_loss: 0.2205\n",
      "Epoch 38/50\n",
      "59/59 - 4s - loss: 0.1904 - val_loss: 0.2225\n",
      "Epoch 39/50\n",
      "59/59 - 4s - loss: 0.1889 - val_loss: 0.2211\n",
      "Epoch 40/50\n",
      "59/59 - 4s - loss: 0.1880 - val_loss: 0.2224\n",
      "Epoch 41/50\n",
      "59/59 - 4s - loss: 0.1872 - val_loss: 0.2199\n",
      "Epoch 42/50\n",
      "59/59 - 4s - loss: 0.1853 - val_loss: 0.2205\n",
      "Epoch 43/50\n",
      "59/59 - 4s - loss: 0.1839 - val_loss: 0.2199\n",
      "Epoch 44/50\n",
      "59/59 - 4s - loss: 0.1828 - val_loss: 0.2199\n",
      "Epoch 45/50\n",
      "59/59 - 4s - loss: 0.1818 - val_loss: 0.2201\n",
      "Epoch 46/50\n",
      "59/59 - 4s - loss: 0.1809 - val_loss: 0.2199\n",
      "Epoch 47/50\n",
      "59/59 - 4s - loss: 0.1751 - val_loss: 0.2166\n",
      "Epoch 48/50\n",
      "59/59 - 4s - loss: 0.1727 - val_loss: 0.2165\n",
      "Epoch 49/50\n",
      "59/59 - 4s - loss: 0.1721 - val_loss: 0.2159\n",
      "Epoch 50/50\n",
      "59/59 - 4s - loss: 0.1716 - val_loss: 0.2162\n"
     ]
    }
   ],
   "source": [
    "history = model.fit(\n",
    "    x_train, y_train,\n",
    "    validation_data=(x_val, y_val),\n",
    "    batch_size=32,\n",
    "    epochs=50,\n",
    "    verbose=2,\n",
    "    callbacks=[\n",
    "        tf.keras.callbacks.ReduceLROnPlateau(patience=5),\n",
    "        tf.keras.callbacks.ModelCheckpoint('model.h5')\n",
    "    ]\n",
    ")\n"
   ]
  },
  {
   "cell_type": "markdown",
   "metadata": {
    "papermill": {
     "duration": 0.065369,
     "end_time": "2021-05-20T15:20:15.105996",
     "exception": false,
     "start_time": "2021-05-20T15:20:15.040627",
     "status": "completed"
    },
    "tags": []
   },
   "source": [
    "# Let's check how our model is doing"
   ]
  },
  {
   "cell_type": "code",
   "execution_count": 26,
   "metadata": {
    "execution": {
     "iopub.execute_input": "2021-05-20T15:20:15.240491Z",
     "iopub.status.busy": "2021-05-20T15:20:15.239740Z",
     "iopub.status.idle": "2021-05-20T15:20:16.341667Z",
     "shell.execute_reply": "2021-05-20T15:20:16.341178Z",
     "shell.execute_reply.started": "2021-05-20T15:13:57.588892Z"
    },
    "papermill": {
     "duration": 1.171864,
     "end_time": "2021-05-20T15:20:16.341823",
     "exception": false,
     "start_time": "2021-05-20T15:20:15.169959",
     "status": "completed"
    },
    "tags": []
   },
   "outputs": [
    {
     "data": {
      "text/html": [
       "        <script type=\"text/javascript\">\n",
       "        window.PlotlyConfig = {MathJaxConfig: 'local'};\n",
       "        if (window.MathJax) {MathJax.Hub.Config({SVG: {font: \"STIX-Web\"}});}\n",
       "        if (typeof require !== 'undefined') {\n",
       "        require.undef(\"plotly\");\n",
       "        requirejs.config({\n",
       "            paths: {\n",
       "                'plotly': ['https://cdn.plot.ly/plotly-latest.min']\n",
       "            }\n",
       "        });\n",
       "        require(['plotly'], function(Plotly) {\n",
       "            window._Plotly = Plotly;\n",
       "        });\n",
       "        }\n",
       "        </script>\n",
       "        "
      ]
     },
     "metadata": {},
     "output_type": "display_data"
    },
    {
     "data": {
      "text/html": [
       "<div>                            <div id=\"c8b692b1-e28f-47cd-93c6-08b11f1c6463\" class=\"plotly-graph-div\" style=\"height:525px; width:100%;\"></div>            <script type=\"text/javascript\">                require([\"plotly\"], function(Plotly) {                    window.PLOTLYENV=window.PLOTLYENV || {};                                    if (document.getElementById(\"c8b692b1-e28f-47cd-93c6-08b11f1c6463\")) {                    Plotly.newPlot(                        \"c8b692b1-e28f-47cd-93c6-08b11f1c6463\",                        [{\"hovertemplate\": \"variable=loss<br>epoch=%{x}<br>MCRMSE=%{y}<extra></extra>\", \"legendgroup\": \"loss\", \"line\": {\"color\": \"#636efa\", \"dash\": \"solid\"}, \"mode\": \"lines\", \"name\": \"loss\", \"orientation\": \"v\", \"showlegend\": true, \"type\": \"scatter\", \"x\": [0, 1, 2, 3, 4, 5, 6, 7, 8, 9, 10, 11, 12, 13, 14, 15, 16, 17, 18, 19, 20, 21, 22, 23, 24, 25, 26, 27, 28, 29, 30, 31, 32, 33, 34, 35, 36, 37, 38, 39, 40, 41, 42, 43, 44, 45, 46, 47, 48, 49], \"xaxis\": \"x\", \"y\": [0.4225802421569824, 0.36317968368530273, 0.3429647386074066, 0.3303684592247009, 0.31936946511268616, 0.3084799349308014, 0.29789412021636963, 0.2855062484741211, 0.27734625339508057, 0.2678018808364868, 0.25966447591781616, 0.2556176483631134, 0.2496965080499649, 0.24620024859905243, 0.2423584908246994, 0.23883239924907684, 0.23569513857364655, 0.23180986940860748, 0.22956305742263794, 0.22558297216892242, 0.22286775708198547, 0.22088009119033813, 0.2185608297586441, 0.21644142270088196, 0.21400071680545807, 0.21120630204677582, 0.20937521755695343, 0.208457350730896, 0.20532149076461792, 0.2024027705192566, 0.20147086679935455, 0.20038776099681854, 0.19767150282859802, 0.19697149097919464, 0.19475862383842468, 0.19354583323001862, 0.19213132560253143, 0.19041036069393158, 0.18894140422344208, 0.18799106776714325, 0.18722416460514069, 0.18530257046222687, 0.18393224477767944, 0.18277201056480408, 0.18176910281181335, 0.18087230622768402, 0.17506393790245056, 0.17270374298095703, 0.1720861941576004, 0.17156554758548737], \"yaxis\": \"y\"}, {\"hovertemplate\": \"variable=val_loss<br>epoch=%{x}<br>MCRMSE=%{y}<extra></extra>\", \"legendgroup\": \"val_loss\", \"line\": {\"color\": \"#EF553B\", \"dash\": \"solid\"}, \"mode\": \"lines\", \"name\": \"val_loss\", \"orientation\": \"v\", \"showlegend\": true, \"type\": \"scatter\", \"x\": [0, 1, 2, 3, 4, 5, 6, 7, 8, 9, 10, 11, 12, 13, 14, 15, 16, 17, 18, 19, 20, 21, 22, 23, 24, 25, 26, 27, 28, 29, 30, 31, 32, 33, 34, 35, 36, 37, 38, 39, 40, 41, 42, 43, 44, 45, 46, 47, 48, 49], \"xaxis\": \"x\", \"y\": [0.3618290424346924, 0.33290913701057434, 0.32811373472213745, 0.31361448764801025, 0.30402475595474243, 0.29461175203323364, 0.28201213479042053, 0.26955509185791016, 0.2616022527217865, 0.25411173701286316, 0.25404825806617737, 0.2485496550798416, 0.2450840175151825, 0.2414836883544922, 0.23848754167556763, 0.24129845201969147, 0.23843519389629364, 0.2356634885072708, 0.23361703753471375, 0.23013100028038025, 0.23173896968364716, 0.2333623617887497, 0.22865647077560425, 0.22906681895256042, 0.22966772317886353, 0.2280987948179245, 0.23197442293167114, 0.22561496496200562, 0.2267768532037735, 0.22691400349140167, 0.2259116768836975, 0.22413228452205658, 0.22353485226631165, 0.22648335993289948, 0.2240283191204071, 0.22261732816696167, 0.22047317028045654, 0.22248448431491852, 0.22109216451644897, 0.2223823368549347, 0.219923198223114, 0.2204604595899582, 0.21991905570030212, 0.21992158889770508, 0.22009746730327606, 0.21991661190986633, 0.2166265994310379, 0.21653971076011658, 0.21588923037052155, 0.21623840928077698], \"yaxis\": \"y\"}],                        {\"legend\": {\"title\": {\"text\": \"variable\"}, \"tracegroupgap\": 0}, \"template\": {\"data\": {\"bar\": [{\"error_x\": {\"color\": \"#2a3f5f\"}, \"error_y\": {\"color\": \"#2a3f5f\"}, \"marker\": {\"line\": {\"color\": \"#E5ECF6\", \"width\": 0.5}}, \"type\": \"bar\"}], \"barpolar\": [{\"marker\": {\"line\": {\"color\": \"#E5ECF6\", \"width\": 0.5}}, \"type\": \"barpolar\"}], \"carpet\": [{\"aaxis\": {\"endlinecolor\": \"#2a3f5f\", \"gridcolor\": \"white\", \"linecolor\": \"white\", \"minorgridcolor\": \"white\", \"startlinecolor\": \"#2a3f5f\"}, \"baxis\": {\"endlinecolor\": \"#2a3f5f\", \"gridcolor\": \"white\", \"linecolor\": \"white\", \"minorgridcolor\": \"white\", \"startlinecolor\": \"#2a3f5f\"}, \"type\": \"carpet\"}], \"choropleth\": [{\"colorbar\": {\"outlinewidth\": 0, \"ticks\": \"\"}, \"type\": \"choropleth\"}], \"contour\": [{\"colorbar\": {\"outlinewidth\": 0, \"ticks\": \"\"}, \"colorscale\": [[0.0, \"#0d0887\"], [0.1111111111111111, \"#46039f\"], [0.2222222222222222, \"#7201a8\"], [0.3333333333333333, \"#9c179e\"], [0.4444444444444444, \"#bd3786\"], [0.5555555555555556, \"#d8576b\"], [0.6666666666666666, \"#ed7953\"], [0.7777777777777778, \"#fb9f3a\"], [0.8888888888888888, \"#fdca26\"], [1.0, \"#f0f921\"]], \"type\": \"contour\"}], \"contourcarpet\": [{\"colorbar\": {\"outlinewidth\": 0, \"ticks\": \"\"}, \"type\": \"contourcarpet\"}], \"heatmap\": [{\"colorbar\": {\"outlinewidth\": 0, \"ticks\": \"\"}, \"colorscale\": [[0.0, \"#0d0887\"], [0.1111111111111111, \"#46039f\"], [0.2222222222222222, \"#7201a8\"], [0.3333333333333333, \"#9c179e\"], [0.4444444444444444, \"#bd3786\"], [0.5555555555555556, \"#d8576b\"], [0.6666666666666666, \"#ed7953\"], [0.7777777777777778, \"#fb9f3a\"], [0.8888888888888888, \"#fdca26\"], [1.0, \"#f0f921\"]], \"type\": \"heatmap\"}], \"heatmapgl\": [{\"colorbar\": {\"outlinewidth\": 0, \"ticks\": \"\"}, \"colorscale\": [[0.0, \"#0d0887\"], [0.1111111111111111, \"#46039f\"], [0.2222222222222222, \"#7201a8\"], [0.3333333333333333, \"#9c179e\"], [0.4444444444444444, \"#bd3786\"], [0.5555555555555556, \"#d8576b\"], [0.6666666666666666, \"#ed7953\"], [0.7777777777777778, \"#fb9f3a\"], [0.8888888888888888, \"#fdca26\"], [1.0, \"#f0f921\"]], \"type\": \"heatmapgl\"}], \"histogram\": [{\"marker\": {\"colorbar\": {\"outlinewidth\": 0, \"ticks\": \"\"}}, \"type\": \"histogram\"}], \"histogram2d\": [{\"colorbar\": {\"outlinewidth\": 0, \"ticks\": \"\"}, \"colorscale\": [[0.0, \"#0d0887\"], [0.1111111111111111, \"#46039f\"], [0.2222222222222222, \"#7201a8\"], [0.3333333333333333, \"#9c179e\"], [0.4444444444444444, \"#bd3786\"], [0.5555555555555556, \"#d8576b\"], [0.6666666666666666, \"#ed7953\"], [0.7777777777777778, \"#fb9f3a\"], [0.8888888888888888, \"#fdca26\"], [1.0, \"#f0f921\"]], \"type\": \"histogram2d\"}], \"histogram2dcontour\": [{\"colorbar\": {\"outlinewidth\": 0, \"ticks\": \"\"}, \"colorscale\": [[0.0, \"#0d0887\"], [0.1111111111111111, \"#46039f\"], [0.2222222222222222, \"#7201a8\"], [0.3333333333333333, \"#9c179e\"], [0.4444444444444444, \"#bd3786\"], [0.5555555555555556, \"#d8576b\"], [0.6666666666666666, \"#ed7953\"], [0.7777777777777778, \"#fb9f3a\"], [0.8888888888888888, \"#fdca26\"], [1.0, \"#f0f921\"]], \"type\": \"histogram2dcontour\"}], \"mesh3d\": [{\"colorbar\": {\"outlinewidth\": 0, \"ticks\": \"\"}, \"type\": \"mesh3d\"}], \"parcoords\": [{\"line\": {\"colorbar\": {\"outlinewidth\": 0, \"ticks\": \"\"}}, \"type\": \"parcoords\"}], \"pie\": [{\"automargin\": true, \"type\": \"pie\"}], \"scatter\": [{\"marker\": {\"colorbar\": {\"outlinewidth\": 0, \"ticks\": \"\"}}, \"type\": \"scatter\"}], \"scatter3d\": [{\"line\": {\"colorbar\": {\"outlinewidth\": 0, \"ticks\": \"\"}}, \"marker\": {\"colorbar\": {\"outlinewidth\": 0, \"ticks\": \"\"}}, \"type\": \"scatter3d\"}], \"scattercarpet\": [{\"marker\": {\"colorbar\": {\"outlinewidth\": 0, \"ticks\": \"\"}}, \"type\": \"scattercarpet\"}], \"scattergeo\": [{\"marker\": {\"colorbar\": {\"outlinewidth\": 0, \"ticks\": \"\"}}, \"type\": \"scattergeo\"}], \"scattergl\": [{\"marker\": {\"colorbar\": {\"outlinewidth\": 0, \"ticks\": \"\"}}, \"type\": \"scattergl\"}], \"scattermapbox\": [{\"marker\": {\"colorbar\": {\"outlinewidth\": 0, \"ticks\": \"\"}}, \"type\": \"scattermapbox\"}], \"scatterpolar\": [{\"marker\": {\"colorbar\": {\"outlinewidth\": 0, \"ticks\": \"\"}}, \"type\": \"scatterpolar\"}], \"scatterpolargl\": [{\"marker\": {\"colorbar\": {\"outlinewidth\": 0, \"ticks\": \"\"}}, \"type\": \"scatterpolargl\"}], \"scatterternary\": [{\"marker\": {\"colorbar\": {\"outlinewidth\": 0, \"ticks\": \"\"}}, \"type\": \"scatterternary\"}], \"surface\": [{\"colorbar\": {\"outlinewidth\": 0, \"ticks\": \"\"}, \"colorscale\": [[0.0, \"#0d0887\"], [0.1111111111111111, \"#46039f\"], [0.2222222222222222, \"#7201a8\"], [0.3333333333333333, \"#9c179e\"], [0.4444444444444444, \"#bd3786\"], [0.5555555555555556, \"#d8576b\"], [0.6666666666666666, \"#ed7953\"], [0.7777777777777778, \"#fb9f3a\"], [0.8888888888888888, \"#fdca26\"], [1.0, \"#f0f921\"]], \"type\": \"surface\"}], \"table\": [{\"cells\": {\"fill\": {\"color\": \"#EBF0F8\"}, \"line\": {\"color\": \"white\"}}, \"header\": {\"fill\": {\"color\": \"#C8D4E3\"}, \"line\": {\"color\": \"white\"}}, \"type\": \"table\"}]}, \"layout\": {\"annotationdefaults\": {\"arrowcolor\": \"#2a3f5f\", \"arrowhead\": 0, \"arrowwidth\": 1}, \"coloraxis\": {\"colorbar\": {\"outlinewidth\": 0, \"ticks\": \"\"}}, \"colorscale\": {\"diverging\": [[0, \"#8e0152\"], [0.1, \"#c51b7d\"], [0.2, \"#de77ae\"], [0.3, \"#f1b6da\"], [0.4, \"#fde0ef\"], [0.5, \"#f7f7f7\"], [0.6, \"#e6f5d0\"], [0.7, \"#b8e186\"], [0.8, \"#7fbc41\"], [0.9, \"#4d9221\"], [1, \"#276419\"]], \"sequential\": [[0.0, \"#0d0887\"], [0.1111111111111111, \"#46039f\"], [0.2222222222222222, \"#7201a8\"], [0.3333333333333333, \"#9c179e\"], [0.4444444444444444, \"#bd3786\"], [0.5555555555555556, \"#d8576b\"], [0.6666666666666666, \"#ed7953\"], [0.7777777777777778, \"#fb9f3a\"], [0.8888888888888888, \"#fdca26\"], [1.0, \"#f0f921\"]], \"sequentialminus\": [[0.0, \"#0d0887\"], [0.1111111111111111, \"#46039f\"], [0.2222222222222222, \"#7201a8\"], [0.3333333333333333, \"#9c179e\"], [0.4444444444444444, \"#bd3786\"], [0.5555555555555556, \"#d8576b\"], [0.6666666666666666, \"#ed7953\"], [0.7777777777777778, \"#fb9f3a\"], [0.8888888888888888, \"#fdca26\"], [1.0, \"#f0f921\"]]}, \"colorway\": [\"#636efa\", \"#EF553B\", \"#00cc96\", \"#ab63fa\", \"#FFA15A\", \"#19d3f3\", \"#FF6692\", \"#B6E880\", \"#FF97FF\", \"#FECB52\"], \"font\": {\"color\": \"#2a3f5f\"}, \"geo\": {\"bgcolor\": \"white\", \"lakecolor\": \"white\", \"landcolor\": \"#E5ECF6\", \"showlakes\": true, \"showland\": true, \"subunitcolor\": \"white\"}, \"hoverlabel\": {\"align\": \"left\"}, \"hovermode\": \"closest\", \"mapbox\": {\"style\": \"light\"}, \"paper_bgcolor\": \"white\", \"plot_bgcolor\": \"#E5ECF6\", \"polar\": {\"angularaxis\": {\"gridcolor\": \"white\", \"linecolor\": \"white\", \"ticks\": \"\"}, \"bgcolor\": \"#E5ECF6\", \"radialaxis\": {\"gridcolor\": \"white\", \"linecolor\": \"white\", \"ticks\": \"\"}}, \"scene\": {\"xaxis\": {\"backgroundcolor\": \"#E5ECF6\", \"gridcolor\": \"white\", \"gridwidth\": 2, \"linecolor\": \"white\", \"showbackground\": true, \"ticks\": \"\", \"zerolinecolor\": \"white\"}, \"yaxis\": {\"backgroundcolor\": \"#E5ECF6\", \"gridcolor\": \"white\", \"gridwidth\": 2, \"linecolor\": \"white\", \"showbackground\": true, \"ticks\": \"\", \"zerolinecolor\": \"white\"}, \"zaxis\": {\"backgroundcolor\": \"#E5ECF6\", \"gridcolor\": \"white\", \"gridwidth\": 2, \"linecolor\": \"white\", \"showbackground\": true, \"ticks\": \"\", \"zerolinecolor\": \"white\"}}, \"shapedefaults\": {\"line\": {\"color\": \"#2a3f5f\"}}, \"ternary\": {\"aaxis\": {\"gridcolor\": \"white\", \"linecolor\": \"white\", \"ticks\": \"\"}, \"baxis\": {\"gridcolor\": \"white\", \"linecolor\": \"white\", \"ticks\": \"\"}, \"bgcolor\": \"#E5ECF6\", \"caxis\": {\"gridcolor\": \"white\", \"linecolor\": \"white\", \"ticks\": \"\"}}, \"title\": {\"x\": 0.05}, \"xaxis\": {\"automargin\": true, \"gridcolor\": \"white\", \"linecolor\": \"white\", \"ticks\": \"\", \"title\": {\"standoff\": 15}, \"zerolinecolor\": \"white\", \"zerolinewidth\": 2}, \"yaxis\": {\"automargin\": true, \"gridcolor\": \"white\", \"linecolor\": \"white\", \"ticks\": \"\", \"title\": {\"standoff\": 15}, \"zerolinecolor\": \"white\", \"zerolinewidth\": 2}}}, \"title\": {\"text\": \"Training History\"}, \"xaxis\": {\"anchor\": \"y\", \"domain\": [0.0, 1.0], \"title\": {\"text\": \"epoch\"}}, \"yaxis\": {\"anchor\": \"x\", \"domain\": [0.0, 1.0], \"title\": {\"text\": \"MCRMSE\"}}},                        {\"responsive\": true}                    ).then(function(){\n",
       "                            \n",
       "var gd = document.getElementById('c8b692b1-e28f-47cd-93c6-08b11f1c6463');\n",
       "var x = new MutationObserver(function (mutations, observer) {{\n",
       "        var display = window.getComputedStyle(gd).display;\n",
       "        if (!display || display === 'none') {{\n",
       "            console.log([gd, 'removed!']);\n",
       "            Plotly.purge(gd);\n",
       "            observer.disconnect();\n",
       "        }}\n",
       "}});\n",
       "\n",
       "// Listen for the removal of the full notebook cells\n",
       "var notebookContainer = gd.closest('#notebook-container');\n",
       "if (notebookContainer) {{\n",
       "    x.observe(notebookContainer, {childList: true});\n",
       "}}\n",
       "\n",
       "// Listen for the clearing of the current output cell\n",
       "var outputEl = gd.closest('.output');\n",
       "if (outputEl) {{\n",
       "    x.observe(outputEl, {childList: true});\n",
       "}}\n",
       "\n",
       "                        })                };                });            </script>        </div>"
      ]
     },
     "metadata": {},
     "output_type": "display_data"
    }
   ],
   "source": [
    "fig = px.line(\n",
    "    history.history, y=['loss', 'val_loss'],\n",
    "    labels={'index': 'epoch', 'value': 'MCRMSE'}, \n",
    "    title='Training History')\n",
    "fig.show()"
   ]
  },
  {
   "cell_type": "markdown",
   "metadata": {
    "papermill": {
     "duration": 0.277164,
     "end_time": "2021-05-20T15:20:16.685372",
     "exception": false,
     "start_time": "2021-05-20T15:20:16.408208",
     "status": "completed"
    },
    "tags": []
   },
   "source": [
    "# Predictions"
   ]
  },
  {
   "cell_type": "code",
   "execution_count": 27,
   "metadata": {
    "execution": {
     "iopub.execute_input": "2021-05-20T15:20:16.825032Z",
     "iopub.status.busy": "2021-05-20T15:20:16.824113Z",
     "iopub.status.idle": "2021-05-20T15:20:20.230983Z",
     "shell.execute_reply": "2021-05-20T15:20:20.229884Z",
     "shell.execute_reply.started": "2021-05-20T15:13:57.655783Z"
    },
    "papermill": {
     "duration": 3.478551,
     "end_time": "2021-05-20T15:20:20.231119",
     "exception": false,
     "start_time": "2021-05-20T15:20:16.752568",
     "status": "completed"
    },
    "tags": []
   },
   "outputs": [],
   "source": [
    "# Caveat: The prediction format requires the output to be the same length as the input,\n",
    "# although it's not the case for the training data.\n",
    "model_public = build_model(seq_len=107, pred_len=107, embed_size=len(token2int))\n",
    "model_private = build_model(seq_len=130, pred_len=130, embed_size=len(token2int))\n",
    "\n",
    "model_public.load_weights('model.h5')\n",
    "model_private.load_weights('model.h5')"
   ]
  },
  {
   "cell_type": "code",
   "execution_count": 28,
   "metadata": {
    "execution": {
     "iopub.execute_input": "2021-05-20T15:20:20.374559Z",
     "iopub.status.busy": "2021-05-20T15:20:20.373573Z",
     "iopub.status.idle": "2021-05-20T15:20:27.339666Z",
     "shell.execute_reply": "2021-05-20T15:20:27.338607Z",
     "shell.execute_reply.started": "2021-05-20T15:14:01.490038Z"
    },
    "papermill": {
     "duration": 7.040162,
     "end_time": "2021-05-20T15:20:27.339813",
     "exception": false,
     "start_time": "2021-05-20T15:20:20.299651",
     "status": "completed"
    },
    "tags": []
   },
   "outputs": [],
   "source": [
    "public_preds = model_public.predict(public_inputs)\n",
    "private_preds = model_private.predict(private_inputs)"
   ]
  },
  {
   "cell_type": "markdown",
   "metadata": {
    "papermill": {
     "duration": 0.064179,
     "end_time": "2021-05-20T15:20:27.468313",
     "exception": false,
     "start_time": "2021-05-20T15:20:27.404134",
     "status": "completed"
    },
    "tags": []
   },
   "source": [
    "# Post-processing and submit\n",
    "\n",
    "For each sample, we take the predicted tensors of shape (107, 5) or (130, 5), and convert them to the long format (i.e.  629×107,5  or  3005×130,5 ):"
   ]
  },
  {
   "cell_type": "code",
   "execution_count": 29,
   "metadata": {
    "execution": {
     "iopub.execute_input": "2021-05-20T15:20:27.739685Z",
     "iopub.status.busy": "2021-05-20T15:20:27.608656Z",
     "iopub.status.idle": "2021-05-20T15:20:30.914197Z",
     "shell.execute_reply": "2021-05-20T15:20:30.913595Z",
     "shell.execute_reply.started": "2021-05-20T15:14:07.478455Z"
    },
    "papermill": {
     "duration": 3.379345,
     "end_time": "2021-05-20T15:20:30.914315",
     "exception": false,
     "start_time": "2021-05-20T15:20:27.534970",
     "status": "completed"
    },
    "tags": []
   },
   "outputs": [
    {
     "data": {
      "text/html": [
       "<div>\n",
       "<style scoped>\n",
       "    .dataframe tbody tr th:only-of-type {\n",
       "        vertical-align: middle;\n",
       "    }\n",
       "\n",
       "    .dataframe tbody tr th {\n",
       "        vertical-align: top;\n",
       "    }\n",
       "\n",
       "    .dataframe thead th {\n",
       "        text-align: right;\n",
       "    }\n",
       "</style>\n",
       "<table border=\"1\" class=\"dataframe\">\n",
       "  <thead>\n",
       "    <tr style=\"text-align: right;\">\n",
       "      <th></th>\n",
       "      <th>reactivity</th>\n",
       "      <th>deg_Mg_pH10</th>\n",
       "      <th>deg_Mg_50C</th>\n",
       "      <th>deg_pH10</th>\n",
       "      <th>deg_50C</th>\n",
       "      <th>id_seqpos</th>\n",
       "    </tr>\n",
       "  </thead>\n",
       "  <tbody>\n",
       "    <tr>\n",
       "      <th>0</th>\n",
       "      <td>0.708256</td>\n",
       "      <td>0.659190</td>\n",
       "      <td>0.546342</td>\n",
       "      <td>2.034063</td>\n",
       "      <td>0.757310</td>\n",
       "      <td>id_00073f8be_0</td>\n",
       "    </tr>\n",
       "    <tr>\n",
       "      <th>1</th>\n",
       "      <td>2.104239</td>\n",
       "      <td>3.170810</td>\n",
       "      <td>3.394956</td>\n",
       "      <td>4.254514</td>\n",
       "      <td>2.986442</td>\n",
       "      <td>id_00073f8be_1</td>\n",
       "    </tr>\n",
       "    <tr>\n",
       "      <th>2</th>\n",
       "      <td>1.610737</td>\n",
       "      <td>0.718315</td>\n",
       "      <td>0.724157</td>\n",
       "      <td>0.650183</td>\n",
       "      <td>0.793168</td>\n",
       "      <td>id_00073f8be_2</td>\n",
       "    </tr>\n",
       "    <tr>\n",
       "      <th>3</th>\n",
       "      <td>1.344301</td>\n",
       "      <td>1.275968</td>\n",
       "      <td>1.805824</td>\n",
       "      <td>1.216240</td>\n",
       "      <td>1.918668</td>\n",
       "      <td>id_00073f8be_3</td>\n",
       "    </tr>\n",
       "    <tr>\n",
       "      <th>4</th>\n",
       "      <td>0.858349</td>\n",
       "      <td>0.669474</td>\n",
       "      <td>0.924544</td>\n",
       "      <td>0.475049</td>\n",
       "      <td>0.849421</td>\n",
       "      <td>id_00073f8be_4</td>\n",
       "    </tr>\n",
       "  </tbody>\n",
       "</table>\n",
       "</div>"
      ],
      "text/plain": [
       "   reactivity  deg_Mg_pH10  deg_Mg_50C  deg_pH10   deg_50C       id_seqpos\n",
       "0    0.708256     0.659190    0.546342  2.034063  0.757310  id_00073f8be_0\n",
       "1    2.104239     3.170810    3.394956  4.254514  2.986442  id_00073f8be_1\n",
       "2    1.610737     0.718315    0.724157  0.650183  0.793168  id_00073f8be_2\n",
       "3    1.344301     1.275968    1.805824  1.216240  1.918668  id_00073f8be_3\n",
       "4    0.858349     0.669474    0.924544  0.475049  0.849421  id_00073f8be_4"
      ]
     },
     "execution_count": 29,
     "metadata": {},
     "output_type": "execute_result"
    }
   ],
   "source": [
    "preds_ls = []\n",
    "\n",
    "for df, preds in [(public_df, public_preds), (private_df, private_preds)]:\n",
    "    for i, uid in enumerate(df.id):\n",
    "        single_pred = preds[i]\n",
    "\n",
    "        single_df = pd.DataFrame(single_pred, columns=pred_cols)\n",
    "        single_df['id_seqpos'] = [f'{uid}_{x}' for x in range(single_df.shape[0])]\n",
    "\n",
    "        preds_ls.append(single_df)\n",
    "\n",
    "preds_df = pd.concat(preds_ls)\n",
    "preds_df.head()"
   ]
  },
  {
   "cell_type": "code",
   "execution_count": 30,
   "metadata": {
    "execution": {
     "iopub.execute_input": "2021-05-20T15:20:31.065764Z",
     "iopub.status.busy": "2021-05-20T15:20:31.057990Z",
     "iopub.status.idle": "2021-05-20T15:20:36.540293Z",
     "shell.execute_reply": "2021-05-20T15:20:36.539142Z",
     "shell.execute_reply.started": "2021-05-20T15:14:10.371296Z"
    },
    "papermill": {
     "duration": 5.554154,
     "end_time": "2021-05-20T15:20:36.540411",
     "exception": false,
     "start_time": "2021-05-20T15:20:30.986257",
     "status": "completed"
    },
    "tags": []
   },
   "outputs": [],
   "source": [
    "submission = sample_df[['id_seqpos']].merge(preds_df, on=['id_seqpos'])\n",
    "submission.to_csv('submission.csv', index=False)"
   ]
  },
  {
   "cell_type": "code",
   "execution_count": null,
   "metadata": {
    "papermill": {
     "duration": 0.070475,
     "end_time": "2021-05-20T15:20:36.678092",
     "exception": false,
     "start_time": "2021-05-20T15:20:36.607617",
     "status": "completed"
    },
    "tags": []
   },
   "outputs": [],
   "source": []
  }
 ],
 "metadata": {
  "kernelspec": {
   "display_name": "Python 3",
   "language": "python",
   "name": "python3"
  },
  "language_info": {
   "codemirror_mode": {
    "name": "ipython",
    "version": 3
   },
   "file_extension": ".py",
   "mimetype": "text/x-python",
   "name": "python",
   "nbconvert_exporter": "python",
   "pygments_lexer": "ipython3",
   "version": "3.7.6"
  },
  "papermill": {
   "duration": 253.005106,
   "end_time": "2021-05-20T15:20:37.159296",
   "environment_variables": {},
   "exception": null,
   "input_path": "__notebook__.ipynb",
   "output_path": "__notebook__.ipynb",
   "parameters": {},
   "start_time": "2021-05-20T15:16:24.154190",
   "version": "2.1.0"
  }
 },
 "nbformat": 4,
 "nbformat_minor": 4
}
